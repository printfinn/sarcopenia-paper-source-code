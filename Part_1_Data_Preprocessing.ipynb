{
 "cells": [
  {
   "cell_type": "markdown",
   "metadata": {},
   "source": [
    "# Part I: Observe Data\n",
    "We may be negligent when we input data to excel, from hand-written records or hospital's digital database system.\n",
    "To avoid further mistake when using these data, we first observe them, draw some line charts.\n",
    "If any data looks weird in the line chart, say a lot higher in the chart, it might be a missing decimal point, so we need to check twice on this data.\n",
    "We draw line charts because observing charts is easier than digits."
   ]
  },
  {
   "cell_type": "code",
   "execution_count": 1,
   "metadata": {},
   "outputs": [
    {
     "data": {
      "application/javascript": [
       "IPython.OutputArea.prototype._should_scroll = function(lines) {\n",
       "    return false;\n",
       "}"
      ],
      "text/plain": [
       "<IPython.core.display.Javascript object>"
      ]
     },
     "metadata": {},
     "output_type": "display_data"
    }
   ],
   "source": [
    "%%javascript\n",
    "IPython.OutputArea.prototype._should_scroll = function(lines) {\n",
    "    return false;\n",
    "}"
   ]
  },
  {
   "cell_type": "code",
   "execution_count": 4,
   "metadata": {},
   "outputs": [],
   "source": [
    "# Run some setup code for this notebook.\n",
    "import glob\n",
    "import matplotlib.pyplot as plt\n",
    "import numpy as np\n",
    "import os\n",
    "from sklearn import svm\n",
    "from sklearn import neighbors\n",
    "from sklearn import preprocessing\n",
    "\n",
    "from utils.data_utils import *\n",
    "#from utils.data_processing import *\n",
    "from __future__ import print_function\n",
    "\n",
    "# This is a bit of magic to make matplotlib figures appear inline in the\n",
    "# notebook rather than in a new window.\n",
    "%matplotlib inline\n",
    "plt.rcParams['figure.figsize'] = (15.0, 8.0) # set default size of plots\n",
    "plt.rcParams['image.interpolation'] = 'nearest'\n",
    "plt.rcParams['image.cmap'] = 'gray'\n",
    "\n",
    "%load_ext autoreload\n",
    "%autoreload 2"
   ]
  },
  {
   "cell_type": "code",
   "execution_count": null,
   "metadata": {},
   "outputs": [],
   "source": [
    "# Load the data into a dict: \"feature_dict{}\".\n",
    "path = 'dataset_new'\n",
    "feature_dict = load_features(path, dont_show=False)\n",
    "observe_data(feature_dict)"
   ]
  },
  {
   "cell_type": "markdown",
   "metadata": {},
   "source": [
    "# Part II: Make up for lost data\n",
    "\n",
    "## Method I: kNN (k-nearest-neighbors)"
   ]
  },
  {
   "cell_type": "code",
   "execution_count": 4,
   "metadata": {
    "scrolled": true
   },
   "outputs": [
    {
     "name": "stdout",
     "output_type": "stream",
     "text": [
      "Feature dict loaded.\n",
      "\n",
      "Missing data features:\n",
      "997_blood_Ca 5\n",
      "\n",
      "\n",
      "Full data features:\n",
      "1_24h_urinary_microalbumin\n",
      "2_24h_urine_protein\n",
      "3_25oh_vd\n",
      "4_25oh_vd3\n",
      "5_2h_fasting_glucose\n",
      "6_8_blood_cortisol\n",
      "7_age\n",
      "8_alt\n",
      "9_ast\n",
      "10_blood_protein\n",
      "11_blood_urea_nitrogen\n",
      "12_blood_uric_acid\n",
      "13_c_peptide\n",
      "14_c_reactive_protein\n",
      "15_calf\n",
      "16_creatine_kinase\n",
      "17_creatinine\n",
      "18_cystatin_c\n",
      "19_fasting_glucose\n",
      "20_fasting_insulin\n",
      "21_ft3\n",
      "22_ft4\n",
      "23_gender\n",
      "24_glycated_hemoglobin\n",
      "25_grip_strength\n",
      "26_hbg\n",
      "27_hdlc\n",
      "28_height\n",
      "29_movement_hours\n",
      "30_plt\n",
      "31_pth\n",
      "32_rbc\n",
      "33_sleep_time\n",
      "34_total_cholesterol\n",
      "35_triglyceride\n",
      "36_tsh\n",
      "37_wbc\n",
      "38_weight\n",
      "39_h2\n",
      "40_6m_speed\n",
      "41_bmi\n",
      "42_history_of_fall\n",
      "43_history_of_cerebrovascular_disease\n",
      "44_course_of_diabetes\n",
      "45_exogenous_insulin\n",
      "46_oral_antidiabetic_drug\n",
      "47_hypertension_duration\n",
      "48_history_of_coronary_heart_disease\n",
      "49_ldlc\n",
      "50_smoking_history\n",
      "51_has_hypertension\n",
      "52_do_exercise\n",
      "53_sulfonylureas\n",
      "54_non_sulfonylureas\n",
      "55_biguanides\n",
      "56_glycosidase_inhibitor\n",
      "57_chinese_medicine\n",
      "58_thiazolidinediones\n",
      "59_glp1ddp4\n",
      "60_job_worker\n",
      "61_noon_nap\n",
      "62_snore\n",
      "63_chewing_ability\n",
      "64_fundal_photograph\n",
      "65_dpn\n",
      "66_lower_limb_doppler\n"
     ]
    }
   ],
   "source": [
    "## Find full data features and missing data features.\n",
    "path = 'dataset_new'\n",
    "feature_dict = load_features(path, dont_show=True)\n",
    "show_feature_details(feature_dict)"
   ]
  },
  {
   "cell_type": "code",
   "execution_count": 5,
   "metadata": {},
   "outputs": [
    {
     "name": "stdout",
     "output_type": "stream",
     "text": [
      "Using feature:\n",
      "1_24h_urinary_microalbumin\n",
      "2_24h_urine_protein\n",
      "17_creatinine\n",
      "63_chewing_ability\n",
      "64_fundal_photograph\n",
      "65_dpn\n",
      "Loading (6) features, done.\n",
      "\n",
      "Feature to make up:  997_blood_Ca\n"
     ]
    }
   ],
   "source": [
    "# Select some features to perform knn to make up the missing data.\n",
    "# Select a feature to predict its missing data.\n",
    "using_feature_index = [1, 2, 17, 63, 64, 65]\n",
    "feature_to_makeup = feature_dict[67]\n",
    "X = load_using_features(feature_dict, using_feature_index, False)\n",
    "X_normalized = normalize_data(X, feature_dict, using_feature_index, dont_show=True)\n",
    "print(\"\\nFeature to make up: \", feature_to_makeup)\n",
    "y_to_makeup = np.loadtxt(\"%s/%s.txt\" %(path, feature_to_makeup))\n",
    "X_train, y_train, X_predict, train_patients, predict_patients = split_train_predict_set(X_normalized, y_to_makeup, dont_show=True)"
   ]
  },
  {
   "cell_type": "code",
   "execution_count": 6,
   "metadata": {},
   "outputs": [
    {
     "name": "stdout",
     "output_type": "stream",
     "text": [
      "\n",
      "Weights: 'uniform':\n",
      "Patient id: 28, 2.14500\n",
      "Patient id: 31, 2.18000\n",
      "Patient id: 93, 2.21500\n",
      "Patient id: 100, 2.19000\n",
      "Patient id: 123, 2.17700\n",
      "\n",
      "Weights: 'distance':\n",
      "Patient id: 28, 2.09071\n",
      "Patient id: 31, 2.15520\n",
      "Patient id: 93, 2.20322\n",
      "Patient id: 100, 2.18363\n",
      "Patient id: 123, 2.18838\n"
     ]
    },
    {
     "data": {
      "image/png": "[encoded data removed]",
      "text/plain": [
       "<matplotlib.figure.Figure at 0x7f74b7ffcbe0>"
      ]
     },
     "metadata": {},
     "output_type": "display_data"
    }
   ],
   "source": [
    "n_neighbors = 10\n",
    "\n",
    "for i, weights in enumerate(['uniform', 'distance']): #'distance'\n",
    "    knn = neighbors.KNeighborsRegressor(n_neighbors, weights=weights)\n",
    "    y_predict = knn.fit(X_train, y_train).predict(X_predict)\n",
    "    #print(\"neighbors:\", knn.kneighbors(X_predict, return_distance=False)) # neighbor index excluded y_predict.\n",
    "    print(\"\\nWeights: '{0}':\".format(weights))\n",
    "    len_predict = len(predict_patients)\n",
    "    for j in np.arange(len_predict):\n",
    "        print(\"Patient id: %d, %.5f\" % (predict_patients[j]+1, y_predict[j]))\n",
    "    plt.subplot(2, 1, i + 1)\n",
    "    for i, txt in enumerate(y_predict):\n",
    "        plt.annotate(\"%d: %.1f\" %(predict_patients[i]+1, txt), (predict_patients[i], y_predict[i]), size=13, color='g')\n",
    "    plt.scatter(train_patients, y_train, c='k', label='data')\n",
    "    plt.scatter(predict_patients, y_predict, c='g', label='prediction')\n",
    "    plt.axis('tight')\n",
    "    plt.legend()\n",
    "    plt.title(\"%s (k = %i, weights = '%s')\" % (feature_to_makeup, n_neighbors, weights))\n",
    "\n",
    "plt.tight_layout()\n",
    "plt.show()"
   ]
  },
  {
   "cell_type": "code",
   "execution_count": null,
   "metadata": {},
   "outputs": [],
   "source": []
  }
 ],
 "metadata": {
  "kernelspec": {
   "display_name": "Python 3",
   "language": "python",
   "name": "python3"
  },
  "language_info": {
   "codemirror_mode": {
    "name": "ipython",
    "version": 3
   },
   "file_extension": ".py",
   "mimetype": "text/x-python",
   "name": "python",
   "nbconvert_exporter": "python",
   "pygments_lexer": "ipython3",
   "version": "3.6.4"
  }
 },
 "nbformat": 4,
 "nbformat_minor": 2
}
