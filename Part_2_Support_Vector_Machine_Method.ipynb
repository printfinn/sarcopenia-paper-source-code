{
 "cells": [
  {
   "cell_type": "markdown",
   "metadata": {},
   "source": [
    "# Part II: Predict Sarcopenia with SVM"
   ]
  },
  {
   "cell_type": "code",
   "execution_count": 1,
   "metadata": {},
   "outputs": [
    {
     "data": {
      "application/javascript": [
       "IPython.OutputArea.prototype._should_scroll = function(lines) {\n",
       "    return false;\n",
       "}"
      ],
      "text/plain": [
       "<IPython.core.display.Javascript object>"
      ]
     },
     "metadata": {},
     "output_type": "display_data"
    }
   ],
   "source": [
    "%%javascript\n",
    "IPython.OutputArea.prototype._should_scroll = function(lines) {\n",
    "    return false;\n",
    "}"
   ]
  },
  {
   "cell_type": "code",
   "execution_count": 2,
   "metadata": {
    "scrolled": true
   },
   "outputs": [],
   "source": [
    "# Run some setup code for this notebook.\n",
    "import glob\n",
    "import matplotlib.pyplot as plt\n",
    "import numpy as np\n",
    "import os\n",
    "import ipywidgets as widgets\n",
    "\n",
    "from ipywidgets import VBox, HBox, Layout\n",
    "from sklearn import svm\n",
    "from sklearn import neighbors\n",
    "from sklearn import preprocessing\n",
    "from sklearn.utils import shuffle\n",
    "\n",
    "from utils.checkbox import *\n",
    "from utils.data_utils import *\n",
    "#from utils.data_processing import *\n",
    "from utils.svm_modeling import *\n",
    "from utils.model_eval import *\n",
    "from __future__ import print_function\n",
    "\n",
    "# This is a bit of magic to make matplotlib figures appear inline in the\n",
    "# notebook rather than in a new window.\n",
    "%matplotlib inline\n",
    "plt.rcParams['figure.figsize'] = (15.0, 8.0) # set default size of plots\n",
    "plt.rcParams['image.interpolation'] = 'nearest'\n",
    "plt.rcParams['image.cmap'] = 'gray'\n",
    "\n",
    "%load_ext autoreload\n",
    "%autoreload 2"
   ]
  },
  {
   "cell_type": "code",
   "execution_count": 3,
   "metadata": {},
   "outputs": [
    {
     "name": "stdout",
     "output_type": "stream",
     "text": [
      "Feature dict loaded.\n",
      "\n"
     ]
    }
   ],
   "source": [
    "# Load data.\n",
    "path = 'dataset_new'\n",
    "feature_dict = load_features(path, dont_show=True)\n",
    "#show_feature_details(feature_dict)"
   ]
  },
  {
   "cell_type": "code",
   "execution_count": 4,
   "metadata": {
    "scrolled": false
   },
   "outputs": [
    {
     "data": {
      "application/vnd.jupyter.widget-view+json": {
       "model_id": "8285399dad434cdf9a30bb0f5c92b76d",
       "version_major": 2,
       "version_minor": 0
      },
      "text/html": [
       "<p>Failed to display Jupyter Widget of type <code>HBox</code>.</p>\n",
       "<p>\n",
       "  If you're reading this message in the Jupyter Notebook or JupyterLab Notebook, it may mean\n",
       "  that the widgets JavaScript is still loading. If this message persists, it\n",
       "  likely means that the widgets JavaScript library is either not installed or\n",
       "  not enabled. See the <a href=\"https://ipywidgets.readthedocs.io/en/stable/user_install.html\">Jupyter\n",
       "  Widgets Documentation</a> for setup instructions.\n",
       "</p>\n",
       "<p>\n",
       "  If you're reading this message in another frontend (for example, a static\n",
       "  rendering on GitHub or <a href=\"https://nbviewer.jupyter.org/\">NBViewer</a>),\n",
       "  it may mean that your frontend doesn't currently support widgets.\n",
       "</p>\n"
      ],
      "text/plain": [
       "HBox(children=(VBox(children=(Checkbox(value=False, description='1_24h_urinary_microalbumin'), Checkbox(value=False, description='2_24h_urine_protein'), Checkbox(value=False, description='3_25oh_vd'), Checkbox(value=False, description='4_25oh_vd3'), Checkbox(value=False, description='5_2h_fasting_glucose'), Checkbox(value=False, description='6_8_blood_cortisol'), Checkbox(value=True, description='7_age'), Checkbox(value=False, description='8_alt'), Checkbox(value=False, description='9_ast'), Checkbox(value=False, description='10_blood_protein'), Checkbox(value=False, description='11_blood_urea_nitrogen'), Checkbox(value=True, description='12_blood_uric_acid'), Checkbox(value=False, description='13_c_peptide'), Checkbox(value=False, description='14_c_reactive_protein'), Checkbox(value=True, description='15_calf'))), VBox(children=(Checkbox(value=False, description='16_creatine_kinase'), Checkbox(value=False, description='17_creatinine'), Checkbox(value=False, description='18_cystatin_c'), Checkbox(value=False, description='19_fasting_glucose'), Checkbox(value=False, description='20_fasting_insulin'), Checkbox(value=False, description='21_ft3'), Checkbox(value=True, description='22_ft4'), Checkbox(value=True, description='23_gender'), Checkbox(value=False, description='24_glycated_hemoglobin'), Checkbox(value=True, description='25_grip_strength'), Checkbox(value=False, description='26_hbg'), Checkbox(value=False, description='27_hdlc'), Checkbox(value=False, description='28_height'), Checkbox(value=False, description='29_movement_hours'), Checkbox(value=False, description='30_plt'))), VBox(children=(Checkbox(value=False, description='31_pth'), Checkbox(value=False, description='32_rbc'), Checkbox(value=False, description='33_sleep_time'), Checkbox(value=False, description='34_total_cholesterol'), Checkbox(value=True, description='35_triglyceride'), Checkbox(value=False, description='36_tsh'), Checkbox(value=False, description='37_wbc'), Checkbox(value=False, description='38_weight'), Checkbox(value=False, description='39_h2'), Checkbox(value=False, description='40_6m_speed'), Checkbox(value=True, description='41_bmi'), Checkbox(value=False, description='42_history_of_fall'), Checkbox(value=False, description='43_history_of_cerebrovascular_disease'), Checkbox(value=True, description='44_course_of_diabetes'), Checkbox(value=False, description='45_exogenous_insulin'))), VBox(children=(Checkbox(value=False, description='46_oral_antidiabetic_drug'), Checkbox(value=False, description='47_hypertension_duration'), Checkbox(value=False, description='48_history_of_coronary_heart_disease'), Checkbox(value=False, description='49_ldlc'), Checkbox(value=False, description='50_smoking_history'), Checkbox(value=False, description='51_has_hypertension'), Checkbox(value=False, description='52_do_exercise'), Checkbox(value=False, description='53_sulfonylureas'), Checkbox(value=False, description='54_non_sulfonylureas'), Checkbox(value=True, description='55_biguanides'), Checkbox(value=False, description='56_glycosidase_inhibitor'), Checkbox(value=False, description='57_chinese_medicine'), Checkbox(value=False, description='58_thiazolidinediones'), Checkbox(value=False, description='59_glp1ddp4'), Checkbox(value=False, description='60_job_worker'))), VBox(children=(Checkbox(value=False, description='61_noon_nap'), Checkbox(value=True, description='62_snore'), Checkbox(value=False, description='63_chewing_ability'), Checkbox(value=False, description='64_fundal_photograph'), Checkbox(value=False, description='65_dpn'), Checkbox(value=False, description='66_lower_limb_doppler'), Checkbox(value=False, description='997_blood_Ca')))))"
      ]
     },
     "metadata": {},
     "output_type": "display_data"
    }
   ],
   "source": [
    "# Select some features.\n",
    "use_all = False\n",
    "#use_all = True\n",
    "\n",
    "level_1 = [7, 41, 25, 60, 16, 17, 23, 28, 30, 31, 38, 40, 42, 43, 44, 46, 47, 48, 52, 56, 61, 62, 63, 64, 65, 66]\n",
    "level_2 = [7, 41, 25]\n",
    "cui_statistic = [7, 11, 15, 22, 23, 25, 29, 35, 41, 44, 55, 62]\n",
    "cui_1 = [7, 22, 23, 29, 41, 55]\n",
    "cui_2 = [7, 12, 15, 22, 23, 25, 35, 41, 44, 55, 62]\n",
    "cui_3 = [7, 22, 23, 41, 52, 55]\n",
    "include_feature_groups = []\n",
    "include_feature_index = cui_2\n",
    "exclude_feature_index = []\n",
    "\n",
    "if use_all:\n",
    "    include_feature_index = np.arange(1, len(feature_dict), 1)\n",
    "\n",
    "feature_pre_selected = pre_select_feature(include_feature_groups, include_feature_index, exclude_feature_index, dont_show=True)\n",
    "precheck_boxes = generate_precheck_boxes(feature_pre_selected, feature_dict, dont_show=True)\n",
    "\n",
    "hbox = gen_checkbox(precheck_boxes, feature_dict)\n",
    "HBox(hbox)"
   ]
  },
  {
   "cell_type": "code",
   "execution_count": 5,
   "metadata": {
    "scrolled": true
   },
   "outputs": [
    {
     "name": "stdout",
     "output_type": "stream",
     "text": [
      "Checked features:\n",
      "  [7, 12, 15, 22, 23, 25, 35, 41, 44, 55, 62]\n",
      "Loading (11) features, done.\n"
     ]
    }
   ],
   "source": [
    "# Turn on / off log.\n",
    "\n",
    "#use_log = False\n",
    "use_log = True\n",
    "\n",
    "# Load data.\n",
    "checked_features = review_checkbox(hbox, dont_show=False, log=use_log)\n",
    "X = load_using_features(feature_dict, checked_features, dont_show=True)\n",
    "asm, asm_h2, sarcopenia, gender, height_squared, patient_id = load_asm(), load_asm_over_h2(), load_sarcopenia(), load_gender(), load_height_squared(), load_index()\n",
    "\n",
    "# Random shuffle. Comment this line if you want to keep the shuffling order.\n",
    "shuffle_index = np.random.permutation(X.shape[0])\n",
    "\n",
    "# Data Rescaling.\n",
    "scaler = set_scaler()\n",
    "#X_normalized = scaler.fit_transform(X)\n",
    "\n",
    "# Split dataset.\n",
    "num_train = 80\n",
    "num_val = 26\n",
    "num_test = 26\n",
    "asm_train, asm_val, asm_test = shuffle_feature(asm, shuffle_index, num_train, num_val, num_test)\n",
    "asm_h2_train, asm_h2_val, asm_h2_test = shuffle_feature(asm_h2, shuffle_index, num_train, num_val, num_test)\n",
    "sarcopenia_train, sarcopenia_val, sarcopenia_test = shuffle_feature(sarcopenia, shuffle_index, num_train, num_val, num_test)\n",
    "gender_train, gender_val, gender_test = shuffle_feature(gender, shuffle_index, num_train, num_val, num_test)\n",
    "height_squared_train, height_squared_val, height_squared_test = shuffle_feature(height_squared, shuffle_index, num_train, num_val, num_test)\n",
    "patient_id_train, patient_id_val, patient_id_test = shuffle_feature(patient_id, shuffle_index, num_train, num_val, num_test)\n",
    "X_train, X_val, X_test = shuffle_feature(X, shuffle_index, num_train, num_val, num_test)\n",
    "X_train, X_val, X_test = scaler.fit_transform(X_train), scaler.transform(X_val), scaler.transform(X_test)"
   ]
  },
  {
   "cell_type": "markdown",
   "metadata": {},
   "source": [
    "## Method I: SVM Classifier on Sarcopenia"
   ]
  },
  {
   "cell_type": "code",
   "execution_count": 6,
   "metadata": {
    "scrolled": true
   },
   "outputs": [
    {
     "name": "stdout",
     "output_type": "stream",
     "text": [
      "SVC(C=1, cache_size=200, class_weight=None, coef0=0.0,\n",
      "  decision_function_shape='ovr', degree=3, gamma='auto_deprecated',\n",
      "  kernel='linear', max_iter=-1, probability=False, random_state=None,\n",
      "  shrinking=True, tol=0.001, verbose=False)\n",
      "Model best f1_score: 0.7273, f1_score_training: 0.7917, f1_score_val: 0.7273\n",
      "\n",
      "Observing Training Set:\n",
      "Truth:  1, Predicted: -1, Patient id:  28\n",
      "Truth:  1, Predicted: -1, Patient id:  20\n",
      "Truth: -1, Predicted:  1, Patient id:  89\n",
      "Truth:  1, Predicted: -1, Patient id: 107\n",
      "Truth: -1, Predicted:  1, Patient id: 113\n",
      "Truth: -1, Predicted:  1, Patient id:  93\n",
      "Truth:  1, Predicted: -1, Patient id: 106\n",
      "Truth:  1, Predicted: -1, Patient id:   7\n",
      "Truth:  1, Predicted: -1, Patient id:  64\n",
      "Truth:  1, Predicted: -1, Patient id:  47\n",
      "\n",
      "Evaluating Training set:\n",
      "Positive: 26, Negative: 54\n",
      "TP: 19, FP: 3, TN: 51, FN: 7\n",
      "Correct: 70(80), Precision: 0.864, Recall: 0.731, Specificity: 0.944, F1-Score: 0.792\n",
      "\n",
      "\n",
      "Observing Validation Set:\n",
      "Truth: -1, Predicted:  1, Patient id:  44\n",
      "Truth:  1, Predicted: -1, Patient id:  87\n",
      "Truth:  1, Predicted: -1, Patient id:  65\n",
      "\n",
      "Evaluating Validation set:\n",
      "Positive: 6, Negative: 20\n",
      "TP: 4, FP: 1, TN: 19, FN: 2\n",
      "Correct: 23(26), Precision: 0.800, Recall: 0.667, Specificity: 0.950, F1-Score: 0.727\n",
      "\n",
      "\n",
      "Observing Test Set:\n",
      "Truth: -1, Predicted:  1, Patient id: 124\n",
      "Truth:  1, Predicted: -1, Patient id:  27\n",
      "\n",
      "Evaluating Test set:\n",
      "Positive: 5, Negative: 21\n",
      "TP: 4, FP: 1, TN: 20, FN: 1\n",
      "Correct: 24(26), Precision: 0.800, Recall: 0.800, Specificity: 0.952, F1-Score: 0.800\n",
      "\n"
     ]
    }
   ],
   "source": [
    "# Train SVC.\n",
    "kernel_options = {1: \"rbf\", 2: \"linear\"}\n",
    "kernel_SVC = 2\n",
    "# Run SVM Classifier.\n",
    "best_clf_SVC = run_SVC(X_train, X_val, sarcopenia_train, sarcopenia_val, kernel=kernel_options[kernel_SVC], log=use_log)\n",
    "# Observe Model.\n",
    "observe_prediction_SVC(best_clf_SVC, X_train, sarcopenia_train, patient_id_train, dont_show=False, log=use_log, setname='Training')\n",
    "result_train_SVC = best_clf_SVC.predict(X_train)\n",
    "eval_classifier(result_train_SVC, sarcopenia_train, show_detail=True, log=use_log, setname='Training')\n",
    "\n",
    "observe_prediction_SVC(best_clf_SVC, X_val, sarcopenia_val, patient_id_val, dont_show=False, log=use_log, setname='Validation')\n",
    "result_val_SVC = best_clf_SVC.predict(X_val)\n",
    "eval_classifier(result_val_SVC, sarcopenia_val, show_detail=True, log=use_log, setname='Validation')\n",
    "\n",
    "observe_prediction_SVC(best_clf_SVC, X_test, sarcopenia_test, patient_id_test, dont_show=False, log=use_log, setname='Test')\n",
    "result_test_SVC = best_clf_SVC.predict(X_test)\n",
    "eval_classifier(result_test_SVC, sarcopenia_test, show_detail=True, log=use_log, setname='Test')"
   ]
  },
  {
   "cell_type": "markdown",
   "metadata": {},
   "source": [
    "## Method II: SVM Regressor on asm/h2 (appendicular skeletal muscle mass / squared height)"
   ]
  },
  {
   "cell_type": "code",
   "execution_count": 9,
   "metadata": {
    "scrolled": false
   },
   "outputs": [
    {
     "name": "stdout",
     "output_type": "stream",
     "text": [
      "SVR(C=1.024, cache_size=200, coef0=0.0, degree=3, epsilon=0.1,\n",
      "  gamma='auto_deprecated', kernel='linear', max_iter=-1, shrinking=True,\n",
      "  tol=0.001, verbose=False)\n",
      "Model best error: 0.0529, error_training: 0.0672, error_val: 0.0529\n",
      "\n",
      "Training Set:\n",
      "Truth: 6.64, Predicted: 5.81, Error: -12.40%, Gender:  2, GT: -1, Pred: -1, Correct:  1, Patient_id: 118\n",
      "Truth: 6.99, Predicted: 7.12, Error:   1.82%, Gender:  1, GT:  1, Pred: -1, Correct:  0, Patient_id:  28\n",
      "Truth: 9.48, Predicted: 6.50, Error: -31.47%, Gender:  2, GT: -1, Pred: -1, Correct:  1, Patient_id: 130\n",
      "Truth: 4.81, Predicted: 5.45, Error:  13.33%, Gender:  2, GT:  1, Pred: -1, Correct:  0, Patient_id: 101\n",
      "Truth: 5.58, Predicted: 7.71, Error:  38.14%, Gender:  1, GT:  1, Pred: -1, Correct:  0, Patient_id:  20\n",
      "Truth: 5.36, Predicted: 5.56, Error:   3.71%, Gender:  2, GT:  1, Pred: -1, Correct:  0, Patient_id:  84\n",
      "Truth: 7.21, Predicted: 6.35, Error: -11.86%, Gender:  2, GT: -1, Pred: -1, Correct:  1, Patient_id:  68\n",
      "Truth: 5.24, Predicted: 5.87, Error:  12.05%, Gender:  2, GT:  1, Pred: -1, Correct:  0, Patient_id: 107\n",
      "Truth: 5.64, Predicted: 6.51, Error:  15.43%, Gender:  2, GT: -1, Pred: -1, Correct:  1, Patient_id: 100\n",
      "Truth: 6.64, Predicted: 7.01, Error:   5.61%, Gender:  1, GT:  1, Pred: -1, Correct:  0, Patient_id:  29\n",
      "Truth: 5.60, Predicted: 7.07, Error:  26.31%, Gender:  1, GT:  1, Pred: -1, Correct:  0, Patient_id:  34\n",
      "Truth: 5.75, Predicted: 5.27, Error:  -8.41%, Gender:  2, GT: -1, Pred:  1, Correct:  0, Patient_id: 113\n",
      "Truth: 5.41, Predicted: 5.99, Error:  10.72%, Gender:  2, GT: -1, Pred: -1, Correct:  1, Patient_id: 125\n",
      "Truth: 5.44, Predicted: 5.16, Error:  -5.17%, Gender:  2, GT: -1, Pred:  1, Correct:  0, Patient_id:  93\n",
      "Truth: 5.36, Predicted: 5.79, Error:   7.96%, Gender:  2, GT:  1, Pred: -1, Correct:  0, Patient_id: 106\n",
      "Truth: 5.91, Predicted: 7.53, Error:  27.44%, Gender:  2, GT: -1, Pred: -1, Correct:  1, Patient_id: 104\n",
      "Truth: 8.72, Predicted: 7.04, Error: -19.27%, Gender:  1, GT: -1, Pred: -1, Correct:  1, Patient_id:  59\n",
      "Truth: 6.50, Predicted: 7.04, Error:   8.22%, Gender:  1, GT:  1, Pred: -1, Correct:  0, Patient_id:  48\n",
      "Truth: 6.91, Predicted: 7.54, Error:   9.04%, Gender:  1, GT:  1, Pred: -1, Correct:  0, Patient_id:   7\n",
      "Truth: 4.85, Predicted: 6.11, Error:  25.97%, Gender:  1, GT:  1, Pred:  1, Correct:  1, Patient_id:  58\n",
      "Truth: 5.17, Predicted: 5.90, Error:  13.93%, Gender:  2, GT:  1, Pred: -1, Correct:  0, Patient_id:  64\n",
      "Truth: 8.16, Predicted: 7.16, Error: -12.26%, Gender:  1, GT: -1, Pred: -1, Correct:  1, Patient_id:  10\n",
      "Truth: 6.97, Predicted: 7.74, Error:  11.14%, Gender:  1, GT:  1, Pred: -1, Correct:  0, Patient_id:  47\n",
      "Truth: 5.46, Predicted: 6.02, Error:  10.36%, Gender:  2, GT: -1, Pred: -1, Correct:  1, Patient_id: 131\n",
      "Truth: 6.93, Predicted: 7.03, Error:   1.44%, Gender:  1, GT:  1, Pred: -1, Correct:  0, Patient_id:  13\n",
      "\n",
      "Evaluating Training set:\n",
      "Positive: 26, Negative: 54\n",
      "TP: 13, FP: 2, TN: 52, FN: 13\n",
      "Correct: 65(80), Precision: 0.867, Recall: 0.500, Specificity: 0.963, F1-Score: 0.634\n",
      "\n",
      "\n",
      "Validation Set:\n",
      "Truth: 7.17, Predicted: 6.61, Error:  -7.86%, Gender:  1, GT: -1, Pred:  1, Correct:  0, Patient_id:  44\n",
      "Truth: 4.87, Predicted: 5.79, Error:  19.05%, Gender:  2, GT:  1, Pred: -1, Correct:  0, Patient_id:  87\n",
      "Truth: 7.37, Predicted: 6.97, Error:  -5.40%, Gender:  1, GT: -1, Pred:  1, Correct:  0, Patient_id:  21\n",
      "Truth: 6.88, Predicted: 6.18, Error: -10.25%, Gender:  2, GT: -1, Pred: -1, Correct:  1, Patient_id:  72\n",
      "Truth: 5.35, Predicted: 6.05, Error:  12.99%, Gender:  2, GT:  1, Pred: -1, Correct:  0, Patient_id:  65\n",
      "\n",
      "Evaluating Validation set:\n",
      "Positive: 6, Negative: 20\n",
      "TP: 4, FP: 2, TN: 18, FN: 2\n",
      "Correct: 22(26), Precision: 0.667, Recall: 0.667, Specificity: 0.900, F1-Score: 0.667\n",
      "\n",
      "\n",
      "Test Set:\n",
      "Truth: 5.74, Predicted: 6.45, Error:  12.48%, Gender:  1, GT:  1, Pred:  1, Correct:  1, Patient_id:  22\n",
      "Truth: 6.47, Predicted: 5.77, Error: -10.86%, Gender:  2, GT: -1, Pred: -1, Correct:  1, Patient_id: 128\n",
      "Truth: 5.51, Predicted: 5.35, Error:  -2.84%, Gender:  2, GT: -1, Pred:  1, Correct:  0, Patient_id: 105\n",
      "Truth: 7.01, Predicted: 7.75, Error:  10.55%, Gender:  1, GT: -1, Pred: -1, Correct:  1, Patient_id:  35\n",
      "Truth: 6.77, Predicted: 7.04, Error:   4.03%, Gender:  1, GT:  1, Pred: -1, Correct:  0, Patient_id:  23\n",
      "Truth: 6.82, Predicted: 7.70, Error:  12.87%, Gender:  1, GT:  1, Pred: -1, Correct:  0, Patient_id:  27\n",
      "Truth: 5.41, Predicted: 6.12, Error:  13.12%, Gender:  2, GT: -1, Pred: -1, Correct:  1, Patient_id:  96\n",
      "\n",
      "Evaluating Test set:\n",
      "Positive: 5, Negative: 21\n",
      "TP: 3, FP: 1, TN: 20, FN: 2\n",
      "Correct: 23(26), Precision: 0.750, Recall: 0.600, Specificity: 0.952, F1-Score: 0.667\n",
      "\n"
     ]
    }
   ],
   "source": [
    "# Train SVR on asm/h2.\n",
    "kernel_options = {1: \"rbf\", 2: \"linear\"}\n",
    "kernel = 2\n",
    "# Run SVM Classifier.\n",
    "best_clf_asm_h2_SVR = run_SVR(X_train, X_val, asm_h2_train, asm_h2_val, kernel=kernel_options[kernel], log=use_log)\n",
    "# Observe Model.\n",
    "#Training Set:\n",
    "observe_prediction_asm_h2_SVR(best_clf_asm_h2_SVR, X_train, asm_h2_train, gender_train, sarcopenia_train, patient_id_train, dont_show=False, log=use_log, setname='Training')\n",
    "result_train_asm_h2_SVR = eval_sarcopenia_asm_h2(best_clf_asm_h2_SVR, X_train, gender_train, sarcopenia_train)\n",
    "eval_classifier(result_train_asm_h2_SVR, sarcopenia_train, show_detail=True, log=use_log, setname='Training')\n",
    "\n",
    "#Validation Set:\n",
    "observe_prediction_asm_h2_SVR(best_clf_asm_h2_SVR, X_val, asm_h2_val, gender_val, sarcopenia_val, patient_id_val, dont_show=False, log=use_log, setname='Validation')\n",
    "result_val_asm_h2_SVR = eval_sarcopenia_asm_h2(best_clf_asm_h2_SVR, X_val, gender_val, sarcopenia_val)\n",
    "eval_classifier(result_val_asm_h2_SVR, sarcopenia_val, show_detail=True, log=use_log, setname='Validation')\n",
    "\n",
    "#Test Set:\n",
    "observe_prediction_asm_h2_SVR(best_clf_asm_h2_SVR, X_test, asm_h2_test, gender_test, sarcopenia_test, patient_id_test, dont_show=False, log=use_log, setname='Test')\n",
    "result_test_asm_h2_SVR = eval_sarcopenia_asm_h2(best_clf_asm_h2_SVR, X_test, gender_test, sarcopenia_test)\n",
    "eval_classifier(result_test_asm_h2_SVR, sarcopenia_test, show_detail=True, log=use_log, setname='Test')\n"
   ]
  },
  {
   "cell_type": "markdown",
   "metadata": {},
   "source": [
    "## Method III: SVM Regressor on asm (appendicular skeletal muscle mass)"
   ]
  },
  {
   "cell_type": "code",
   "execution_count": 8,
   "metadata": {
    "scrolled": true
   },
   "outputs": [
    {
     "name": "stdout",
     "output_type": "stream",
     "text": [
      "SVR(C=51.2, cache_size=200, coef0=0.0, degree=3, epsilon=0.1, gamma=0.032768,\n",
      "  kernel='rbf', max_iter=-1, shrinking=True, tol=0.001, verbose=False)\n",
      "Model best error: 0.0647, error_training: 0.0784, error_val: 0.0647\n",
      "\n",
      "Training Set:\n",
      "Truth: 26.13, Pred: 23.50, ASM/h2: 7.25, Error: -10.06%, Gender:  1, GT: -1, Pred: -1, Correct:  1, Patient_id:  57\n",
      "Truth: 17.20, Pred: 14.47, ASM/h2: 5.58, Error: -15.87%, Gender:  2, GT: -1, Pred: -1, Correct:  1, Patient_id: 118\n",
      "Truth: 13.99, Pred: 17.18, ASM/h2: 8.06, Error:  22.74%, Gender:  2, GT: -1, Pred: -1, Correct:  1, Patient_id:  88\n",
      "Truth: 21.16, Pred: 21.26, ASM/h2: 7.02, Error:   0.47%, Gender:  1, GT:  1, Pred: -1, Correct:  0, Patient_id:  28\n",
      "Truth: 17.86, Pred: 20.24, ASM/h2: 7.44, Error:  13.32%, Gender:  1, GT:  1, Pred: -1, Correct:  0, Patient_id:  17\n",
      "Truth: 18.82, Pred: 16.63, ASM/h2: 6.18, Error: -11.62%, Gender:  2, GT: -1, Pred: -1, Correct:  1, Patient_id:  79\n",
      "Truth: 18.63, Pred: 16.20, ASM/h2: 5.95, Error: -13.05%, Gender:  2, GT: -1, Pred: -1, Correct:  1, Patient_id: 127\n",
      "Truth: 21.91, Pred: 15.97, ASM/h2: 6.91, Error: -27.12%, Gender:  2, GT: -1, Pred: -1, Correct:  1, Patient_id: 130\n",
      "Truth: 12.00, Pred: 13.85, ASM/h2: 5.55, Error:  15.41%, Gender:  2, GT:  1, Pred: -1, Correct:  0, Patient_id: 101\n",
      "Truth: 17.09, Pred: 23.24, ASM/h2: 7.59, Error:  35.99%, Gender:  1, GT:  1, Pred: -1, Correct:  0, Patient_id:  20\n",
      "Truth: 12.75, Pred: 14.66, ASM/h2: 6.02, Error:  14.99%, Gender:  2, GT:  1, Pred: -1, Correct:  0, Patient_id: 107\n",
      "Truth: 14.43, Pred: 16.23, ASM/h2: 6.34, Error:  12.50%, Gender:  2, GT: -1, Pred: -1, Correct:  1, Patient_id: 100\n",
      "Truth: 16.14, Pred: 14.48, ASM/h2: 5.59, Error: -10.30%, Gender:  2, GT: -1, Pred: -1, Correct:  1, Patient_id:  95\n",
      "Truth: 19.86, Pred: 21.06, ASM/h2: 7.04, Error:   6.02%, Gender:  1, GT:  1, Pred: -1, Correct:  0, Patient_id:  29\n",
      "Truth: 14.09, Pred: 15.78, ASM/h2: 6.16, Error:  12.04%, Gender:  2, GT: -1, Pred: -1, Correct:  1, Patient_id:  86\n",
      "Truth: 16.18, Pred: 21.12, ASM/h2: 7.31, Error:  30.52%, Gender:  1, GT:  1, Pred: -1, Correct:  0, Patient_id:  34\n",
      "Truth: 13.47, Pred: 12.21, ASM/h2: 5.22, Error:  -9.32%, Gender:  2, GT: -1, Pred:  1, Correct:  0, Patient_id: 113\n",
      "Truth: 13.72, Pred: 14.52, ASM/h2: 5.67, Error:   5.84%, Gender:  2, GT:  1, Pred: -1, Correct:  0, Patient_id: 106\n",
      "Truth: 21.87, Pred: 24.12, ASM/h2: 8.97, Error:  10.29%, Gender:  1, GT: -1, Pred: -1, Correct:  1, Patient_id:  39\n",
      "Truth: 11.66, Pred: 13.25, ASM/h2: 5.66, Error:  13.59%, Gender:  2, GT:  1, Pred: -1, Correct:  0, Patient_id: 120\n",
      "Truth: 20.53, Pred: 16.04, ASM/h2: 5.55, Error: -21.88%, Gender:  2, GT: -1, Pred: -1, Correct:  1, Patient_id: 103\n",
      "Truth: 14.75, Pred: 18.89, ASM/h2: 7.57, Error:  28.09%, Gender:  2, GT: -1, Pred: -1, Correct:  1, Patient_id: 104\n",
      "Truth: 26.69, Pred: 21.71, ASM/h2: 7.09, Error: -18.67%, Gender:  1, GT: -1, Pred: -1, Correct:  1, Patient_id:  59\n",
      "Truth: 26.40, Pred: 23.27, ASM/h2: 7.18, Error: -11.87%, Gender:  1, GT: -1, Pred: -1, Correct:  1, Patient_id:   8\n",
      "Truth: 19.85, Pred: 21.90, ASM/h2: 7.85, Error:  10.31%, Gender:  1, GT: -1, Pred: -1, Correct:  1, Patient_id:  31\n",
      "Truth: 23.63, Pred: 20.91, ASM/h2: 6.11, Error: -11.52%, Gender:  1, GT:  1, Pred:  1, Correct:  1, Patient_id:  33\n",
      "Truth: 19.98, Pred: 21.76, ASM/h2: 7.53, Error:   8.91%, Gender:  1, GT:  1, Pred: -1, Correct:  0, Patient_id:   7\n",
      "Truth: 13.36, Pred: 18.79, ASM/h2: 6.82, Error:  40.72%, Gender:  1, GT:  1, Pred:  1, Correct:  1, Patient_id:  58\n",
      "Truth: 19.67, Pred: 22.63, ASM/h2: 8.02, Error:  15.04%, Gender:  1, GT:  1, Pred: -1, Correct:  0, Patient_id:  47\n",
      "Truth: 13.11, Pred: 15.13, ASM/h2: 6.30, Error:  15.41%, Gender:  2, GT: -1, Pred: -1, Correct:  1, Patient_id: 131\n",
      "Truth: 20.02, Pred: 22.29, ASM/h2: 7.71, Error:  11.30%, Gender:  1, GT:  1, Pred: -1, Correct:  0, Patient_id:  13\n",
      "\n",
      "Evaluating Training set:\n",
      "Positive: 26, Negative: 54\n",
      "TP: 14, FP: 1, TN: 53, FN: 12\n",
      "Correct: 67(80), Precision: 0.933, Recall: 0.538, Specificity: 0.981, F1-Score: 0.683\n",
      "\n",
      "\n",
      "Validation Set:\n",
      "Truth: 11.69, Pred: 14.78, ASM/h2: 6.15, Error:  26.49%, Gender:  2, GT:  1, Pred: -1, Correct:  0, Patient_id:  87\n",
      "Truth: 19.49, Pred: 22.42, ASM/h2: 8.76, Error:  15.04%, Gender:  1, GT: -1, Pred: -1, Correct:  1, Patient_id:   3\n",
      "Truth: 19.18, Pred: 20.53, ASM/h2: 7.10, Error:   7.02%, Gender:  1, GT:  1, Pred: -1, Correct:  0, Patient_id:  51\n",
      "Truth: 29.85, Pred: 23.77, ASM/h2: 6.94, Error: -20.38%, Gender:  1, GT: -1, Pred:  1, Correct:  0, Patient_id:  30\n",
      "Truth: 13.36, Pred: 15.18, ASM/h2: 6.08, Error:  13.62%, Gender:  2, GT:  1, Pred: -1, Correct:  0, Patient_id:  65\n",
      "Truth: 18.70, Pred: 20.31, ASM/h2: 7.20, Error:   8.62%, Gender:  1, GT:  1, Pred: -1, Correct:  0, Patient_id:  26\n",
      "\n",
      "Evaluating Validation set:\n",
      "Positive: 6, Negative: 20\n",
      "TP: 2, FP: 1, TN: 19, FN: 4\n",
      "Correct: 21(26), Precision: 0.667, Recall: 0.333, Specificity: 0.950, F1-Score: 0.444\n",
      "\n",
      "\n",
      "Test Set:\n",
      "Truth: 16.98, Pred: 19.21, ASM/h2: 6.49, Error:  13.16%, Gender:  1, GT:  1, Pred:  1, Correct:  1, Patient_id:  22\n",
      "Truth: 17.25, Pred: 15.21, ASM/h2: 5.26, Error: -11.84%, Gender:  2, GT: -1, Pred:  1, Correct:  0, Patient_id:  99\n",
      "Truth: 14.11, Pred: 13.22, ASM/h2: 5.16, Error:  -6.31%, Gender:  2, GT: -1, Pred:  1, Correct:  0, Patient_id: 105\n",
      "Truth: 17.81, Pred: 20.35, ASM/h2: 7.57, Error:  14.27%, Gender:  1, GT:  1, Pred: -1, Correct:  0, Patient_id:  42\n",
      "Truth: 16.66, Pred: 19.35, ASM/h2: 7.47, Error:  16.21%, Gender:  1, GT:  1, Pred: -1, Correct:  0, Patient_id:  50\n",
      "Truth: 18.93, Pred: 15.34, ASM/h2: 5.31, Error: -18.94%, Gender:  2, GT: -1, Pred:  1, Correct:  0, Patient_id:  74\n",
      "Truth: 20.26, Pred: 22.80, ASM/h2: 7.89, Error:  12.56%, Gender:  1, GT: -1, Pred: -1, Correct:  1, Patient_id:  35\n",
      "Truth: 17.76, Pred: 21.89, ASM/h2: 8.34, Error:  23.25%, Gender:  1, GT:  1, Pred: -1, Correct:  0, Patient_id:  23\n",
      "Truth: 19.02, Pred: 23.87, ASM/h2: 8.56, Error:  25.48%, Gender:  1, GT:  1, Pred: -1, Correct:  0, Patient_id:  27\n",
      "Truth: 13.01, Pred: 15.72, ASM/h2: 6.54, Error:  20.86%, Gender:  2, GT: -1, Pred: -1, Correct:  1, Patient_id:  96\n",
      "\n",
      "Evaluating Test set:\n",
      "Positive: 5, Negative: 21\n",
      "TP: 1, FP: 3, TN: 18, FN: 4\n",
      "Correct: 19(26), Precision: 0.250, Recall: 0.200, Specificity: 0.857, F1-Score: 0.222\n",
      "\n"
     ]
    }
   ],
   "source": [
    "# Train SVR on asm.\n",
    "kernel_options = {1: \"rbf\", 2: \"linear\"}\n",
    "kernel = 1\n",
    "# Run SVM Classifier.\n",
    "best_clf_asm_SVR = run_SVR(X_train, X_val, asm_train, asm_val, kernel=kernel_options[kernel], log=use_log)\n",
    "# Observe Model.\n",
    "observe_prediction_asm_SVR(best_clf_asm_SVR, X_train, asm_train, gender_train, height_squared_train, sarcopenia_train, patient_id_train, dont_show=False, log=use_log, setname='Training')\n",
    "result_train_asm_SVR = eval_sarcopenia_asm(best_clf_asm_SVR, X_train, gender_train, height_squared_train, sarcopenia_train)\n",
    "eval_classifier(result_train_asm_SVR, sarcopenia_train, show_detail=True, log=use_log, setname='Training')\n",
    "\n",
    "observe_prediction_asm_SVR(best_clf_asm_SVR, X_val, asm_val, gender_val, height_squared_val, sarcopenia_val, patient_id_val, dont_show=False, log=use_log, setname='Validation')\n",
    "result_val_asm_SVR = eval_sarcopenia_asm(best_clf_asm_SVR, X_val, gender_val, height_squared_val, sarcopenia_val)\n",
    "eval_classifier(result_val_asm_SVR, sarcopenia_val, show_detail=True, log=use_log, setname='Validation')\n",
    "\n",
    "observe_prediction_asm_SVR(best_clf_asm_SVR, X_test, asm_test, gender_test, height_squared_test, sarcopenia_test, patient_id_test, dont_show=False, log=use_log, setname='Test')\n",
    "result_test_asm_SVR = eval_sarcopenia_asm(best_clf_asm_SVR, X_test, gender_test, height_squared_test, sarcopenia_test)\n",
    "eval_classifier(result_test_asm_SVR, sarcopenia_test, show_detail=True, log=use_log, setname='Test')"
   ]
  },
  {
   "cell_type": "markdown",
   "metadata": {},
   "source": [
    "## Measurement Index\n",
    "$$Precision = \\frac{True\\ Positive}{True\\ Positve + False\\ Positive}$$\n",
    "$$Recall = \\frac{True\\ Positive}{True\\ Positive + False\\ Negative}$$\n",
    "$$Specificity = \\frac{True\\ Negative}{True\\ Negative + False\\ Positive}$$\n",
    "$$F1\\_Score = \\frac{2 \\times Precision \\times Recall}{Precision + Recall}$$\n",
    "\n",
    "\n",
    "|       |          | Actual   | Class  |\n",
    "| :---  | ---      | ---      |    --- |\n",
    "|       |          | Positive |Negative|\n",
    "|Predict|Positive  | TP       | FP     |\n",
    "| Class |Negative  | FN       | TN     |\n"
   ]
  },
  {
   "cell_type": "code",
   "execution_count": null,
   "metadata": {},
   "outputs": [],
   "source": []
  }
 ],
 "metadata": {
  "kernelspec": {
   "display_name": "Python 3",
   "language": "python",
   "name": "python3"
  },
  "language_info": {
   "codemirror_mode": {
    "name": "ipython",
    "version": 3
   },
   "file_extension": ".py",
   "mimetype": "text/x-python",
   "name": "python",
   "nbconvert_exporter": "python",
   "pygments_lexer": "ipython3",
   "version": "3.6.4"
  }
 },
 "nbformat": 4,
 "nbformat_minor": 2
}
