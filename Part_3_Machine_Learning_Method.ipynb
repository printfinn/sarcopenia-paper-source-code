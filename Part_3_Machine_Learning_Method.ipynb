{
 "cells": [
  {
   "cell_type": "markdown",
   "metadata": {},
   "source": [
    "# Part III: Predict Sarcopenia with Machine Learning"
   ]
  },
  {
   "cell_type": "code",
   "execution_count": 1,
   "metadata": {},
   "outputs": [
    {
     "data": {
      "application/javascript": [
       "IPython.OutputArea.prototype._should_scroll = function(lines) {\n",
       "    return false;\n",
       "}"
      ],
      "text/plain": [
       "<IPython.core.display.Javascript object>"
      ]
     },
     "metadata": {},
     "output_type": "display_data"
    }
   ],
   "source": [
    "%%javascript\n",
    "IPython.OutputArea.prototype._should_scroll = function(lines) {\n",
    "    return false;\n",
    "}"
   ]
  },
  {
   "cell_type": "code",
   "execution_count": 2,
   "metadata": {
    "scrolled": false
   },
   "outputs": [],
   "source": [
    "# Run some setup code for this notebook.\n",
    "import glob\n",
    "import matplotlib.pyplot as plt\n",
    "import numpy as np\n",
    "import os\n",
    "import ipywidgets as widgets\n",
    "\n",
    "\n",
    "import torch\n",
    "import torch.utils.data\n",
    "import torch.nn.functional as F\n",
    "from torch import autograd\n",
    "from torch import optim\n",
    "from torch import nn\n",
    "from torch.autograd import Variable\n",
    "from torch.optim import lr_scheduler\n",
    "from torch.utils.data import Dataset, DataLoader\n",
    "from torchvision import transforms, utils\n",
    "\n",
    "import argparse\n",
    "\n",
    "from ipywidgets import VBox, HBox, Layout\n",
    "from sklearn import svm\n",
    "from sklearn import neighbors\n",
    "from sklearn import preprocessing\n",
    "from sklearn.utils import shuffle\n",
    "\n",
    "from utils.checkbox import *\n",
    "from utils.data_utils import *\n",
    "from utils.data_processing import *\n",
    "from utils.svm_modeling import *\n",
    "from utils.model_eval import *\n",
    "from utils.neural_net import *\n",
    "\n",
    "from __future__ import print_function\n",
    "\n",
    "# This is a bit of magic to make matplotlib figures appear inline in the\n",
    "# notebook rather than in a new window.\n",
    "%matplotlib inline\n",
    "plt.rcParams['figure.figsize'] = (15.0, 8.0) # set default size of plots\n",
    "plt.rcParams['image.interpolation'] = 'nearest'\n",
    "plt.rcParams['image.cmap'] = 'gray'\n",
    "\n",
    "%load_ext autoreload\n",
    "%autoreload 2"
   ]
  },
  {
   "cell_type": "code",
   "execution_count": 3,
   "metadata": {},
   "outputs": [
    {
     "name": "stdout",
     "output_type": "stream",
     "text": [
      "Feature dict loaded.\n",
      "\n"
     ]
    }
   ],
   "source": [
    "# Load data.\n",
    "path = 'dataset_new'\n",
    "feature_dict = load_features(path, dont_show=True)\n",
    "#show_feature_details(feature_dict)"
   ]
  },
  {
   "cell_type": "code",
   "execution_count": 5,
   "metadata": {
    "scrolled": false
   },
   "outputs": [
    {
     "data": {
      "application/vnd.jupyter.widget-view+json": {
       "model_id": "02ff0760a72e47ed937baff8a207327a",
       "version_major": 2,
       "version_minor": 0
      },
      "text/html": [
       "<p>Failed to display Jupyter Widget of type <code>HBox</code>.</p>\n",
       "<p>\n",
       "  If you're reading this message in the Jupyter Notebook or JupyterLab Notebook, it may mean\n",
       "  that the widgets JavaScript is still loading. If this message persists, it\n",
       "  likely means that the widgets JavaScript library is either not installed or\n",
       "  not enabled. See the <a href=\"https://ipywidgets.readthedocs.io/en/stable/user_install.html\">Jupyter\n",
       "  Widgets Documentation</a> for setup instructions.\n",
       "</p>\n",
       "<p>\n",
       "  If you're reading this message in another frontend (for example, a static\n",
       "  rendering on GitHub or <a href=\"https://nbviewer.jupyter.org/\">NBViewer</a>),\n",
       "  it may mean that your frontend doesn't currently support widgets.\n",
       "</p>\n"
      ],
      "text/plain": [
       "HBox(children=(VBox(children=(Checkbox(value=False, description='1_24h_urinary_microalbumin'), Checkbox(value=False, description='2_24h_urine_protein'), Checkbox(value=False, description='3_25oh_vd'), Checkbox(value=False, description='4_25oh_vd3'), Checkbox(value=False, description='5_2h_fasting_glucose'), Checkbox(value=False, description='6_8_blood_cortisol'), Checkbox(value=True, description='7_age'), Checkbox(value=False, description='8_alt'), Checkbox(value=False, description='9_ast'), Checkbox(value=False, description='10_blood_protein'), Checkbox(value=False, description='11_blood_urea_nitrogen'), Checkbox(value=False, description='12_blood_uric_acid'), Checkbox(value=False, description='13_c_peptide'), Checkbox(value=False, description='14_c_reactive_protein'), Checkbox(value=False, description='15_calf'))), VBox(children=(Checkbox(value=True, description='16_creatine_kinase'), Checkbox(value=True, description='17_creatinine'), Checkbox(value=False, description='18_cystatin_c'), Checkbox(value=False, description='19_fasting_glucose'), Checkbox(value=False, description='20_fasting_insulin'), Checkbox(value=False, description='21_ft3'), Checkbox(value=False, description='22_ft4'), Checkbox(value=True, description='23_gender'), Checkbox(value=False, description='24_glycated_hemoglobin'), Checkbox(value=True, description='25_grip_strength'), Checkbox(value=False, description='26_hbg'), Checkbox(value=False, description='27_hdlc'), Checkbox(value=True, description='28_height'), Checkbox(value=False, description='29_movement_hours'), Checkbox(value=True, description='30_plt'))), VBox(children=(Checkbox(value=True, description='31_pth'), Checkbox(value=False, description='32_rbc'), Checkbox(value=False, description='33_sleep_time'), Checkbox(value=False, description='34_total_cholesterol'), Checkbox(value=False, description='35_triglyceride'), Checkbox(value=False, description='36_tsh'), Checkbox(value=False, description='37_wbc'), Checkbox(value=True, description='38_weight'), Checkbox(value=False, description='39_h2'), Checkbox(value=True, description='40_6m_speed'), Checkbox(value=True, description='41_bmi'), Checkbox(value=True, description='42_history_of_fall'), Checkbox(value=True, description='43_history_of_cerebrovascular_disease'), Checkbox(value=True, description='44_course_of_diabetes'), Checkbox(value=False, description='45_exogenous_insulin'))), VBox(children=(Checkbox(value=True, description='46_oral_antidiabetic_drug'), Checkbox(value=True, description='47_hypertension_duration'), Checkbox(value=True, description='48_history_of_coronary_heart_disease'), Checkbox(value=False, description='49_ldlc'), Checkbox(value=False, description='50_smoking_history'), Checkbox(value=False, description='51_has_hypertension'), Checkbox(value=True, description='52_do_exercise'), Checkbox(value=False, description='53_sulfonylureas'), Checkbox(value=False, description='54_non_sulfonylureas'), Checkbox(value=False, description='55_biguanides'), Checkbox(value=False, description='56_glycosidase_inhibitor'), Checkbox(value=False, description='57_chinese_medicine'), Checkbox(value=False, description='58_thiazolidinediones'), Checkbox(value=False, description='59_glp1ddp4'), Checkbox(value=True, description='60_job_worker'))), VBox(children=(Checkbox(value=True, description='61_noon_nap'), Checkbox(value=True, description='62_snore'), Checkbox(value=True, description='63_chewing_ability'), Checkbox(value=True, description='64_fundal_photograph'), Checkbox(value=True, description='65_dpn'), Checkbox(value=True, description='66_lower_limb_doppler'), Checkbox(value=False, description='997_blood_Ca')))))"
      ]
     },
     "metadata": {},
     "output_type": "display_data"
    }
   ],
   "source": [
    "# Select some features.\n",
    "use_all = False\n",
    "use_all = False\n",
    "level1 = [7, 41, 25, 60, 16, 17, 23, 28, 30, 38, 40, 42, 43, 44, 46, 47, 48, 52, 56]\n",
    "level2 = [7, 41, 25]\n",
    "level3 = [1, 2, 3, 4, 5, 6, 7, 8, 9, 10, 11, 12, 13, 14, 15, 16, 17, 18, 19, 20, 21, 22, 23, 24, 25, 26, 27, 28, 29, 30, 32, 33, 34, 35, 36, 37, 38, 40, 41, 42, 43, 45, 46, 47, 48, 49, 50, 52, 60]\n",
    "level4 = [7, 16, 17, 23, 25, 28, 30, 31, 38, 40, 41, 42, 43, 44, 46, 47, 48, 52, 60, 61, 62, 63, 64, 65, 66]\n",
    "include_feature_groups = []#[1, 2, 3, 4, 5, 6, 7, 8, 9]\n",
    "include_feature_index = level4\n",
    "exclude_feature_index = []\n",
    "\n",
    "if use_all:\n",
    "    include_feature_index = np.arange(1, len(feature_dict)+1, 1)\n",
    "\n",
    "feature_pre_selected = pre_select_feature(include_feature_groups, include_feature_index, exclude_feature_index, dont_show=True)\n",
    "precheck_boxes = generate_precheck_boxes(feature_pre_selected, feature_dict, dont_show=True)\n",
    "\n",
    "hbox = gen_checkbox(precheck_boxes, feature_dict)\n",
    "HBox(hbox)"
   ]
  },
  {
   "cell_type": "code",
   "execution_count": 6,
   "metadata": {},
   "outputs": [
    {
     "name": "stdout",
     "output_type": "stream",
     "text": [
      "Checked features:\n",
      "  [7, 16, 17, 23, 25, 28, 30, 31, 38, 40, 41, 42, 43, 44, 46, 47, 48, 52, 60, 61, 62, 63, 64, 65, 66]\n",
      "Loading (25) features, done.\n",
      "132 92 20 20\n"
     ]
    }
   ],
   "source": [
    "# Load data.\n",
    "checked_features = review_checkbox(hbox, dont_show=False, log=True, to_file='nn_log')\n",
    "X = load_using_features(feature_dict, checked_features, dont_show=True)\n",
    "\n",
    "asm, asm_h2, sarcopenia, gender, height_squared, patient_id = load_asm(), load_asm_over_h2(), load_sarcopenia(), load_gender(), load_height_squared(), load_index()\n",
    "select_patient = range(0, 132, 1)\n",
    "X = X[select_patient, :]\n",
    "asm, asm_h2, sarcopenia, gender, height_squared, patient_id = asm[select_patient], asm_h2[select_patient], sarcopenia[select_patient], gender[select_patient], height_squared[select_patient], patient_id[select_patient]\n",
    "# Random shuffle. Comment this line if you want to keep the shuffling order.\n",
    "shuffle_index = np.random.permutation(X.shape[0])\n",
    "\n",
    "# Data Rescaling.\n",
    "scaler = preprocessing.StandardScaler()\n",
    "\n",
    "num_test = int(len(asm) * 2.5 / 16)\n",
    "num_val = num_test\n",
    "num_train = len(asm) - num_test - num_val\n",
    "print(len(asm), num_train, num_val, num_test)\n",
    "\n",
    "\n",
    "asm_train, asm_val, asm_test = shuffle_feature(asm, shuffle_index, num_train, num_val, num_test)\n",
    "asm_h2_train, asm_h2_val, asm_h2_test = shuffle_feature(asm_h2, shuffle_index, num_train, num_val, num_test)\n",
    "sarcopenia_train, sarcopenia_val, sarcopenia_test = shuffle_feature(sarcopenia, shuffle_index, num_train, num_val, num_test)\n",
    "gender_train, gender_val, gender_test = shuffle_feature(gender, shuffle_index, num_train, num_val, num_test)\n",
    "height_squared_train, height_squared_val, height_squared_test = shuffle_feature(height_squared, shuffle_index, num_train, num_val, num_test)\n",
    "patient_id_train, patient_id_val, patient_id_test = shuffle_feature(patient_id, shuffle_index, num_train, num_val, num_test)\n",
    "X_train, X_val, X_test = shuffle_feature(X, shuffle_index, num_train, num_val, num_test)\n",
    "X_train, X_val, X_test = scaler.fit_transform(X_train), scaler.transform(X_val), scaler.transform(X_test)\n",
    "\n",
    "train_dataset = SarcopeniaDataset(X_train, asm_train, asm_h2_train, sarcopenia_train,\n",
    "                                 height_squared_train, patient_id_train, gender_train,\n",
    "                                 transform=transforms.Compose([ToTensor()]))\n",
    "val_dataset = SarcopeniaDataset(X_val, asm_val, asm_h2_val, sarcopenia_val,\n",
    "                                 height_squared_val, patient_id_val, gender_val,\n",
    "                                 transform=transforms.Compose([ToTensor()]))\n",
    "test_dataset = SarcopeniaDataset(X_test, asm_test, asm_h2_test, sarcopenia_test,\n",
    "                                 height_squared_test, patient_id_test, gender_test,\n",
    "                                 transform=transforms.Compose([ToTensor()]))\n",
    "\n",
    "\n",
    "train_loader = DataLoader(train_dataset, batch_size=40,\n",
    "                        shuffle=False)\n",
    "val_loader = DataLoader(val_dataset, batch_size=num_val,\n",
    "                        shuffle=False)\n",
    "test_loader = DataLoader(test_dataset, batch_size=num_test,\n",
    "                        shuffle=False)\n"
   ]
  },
  {
   "cell_type": "markdown",
   "metadata": {},
   "source": [
    "## Method IV: Neural network on asm/h2"
   ]
  },
  {
   "cell_type": "code",
   "execution_count": 7,
   "metadata": {},
   "outputs": [
    {
     "name": "stdout",
     "output_type": "stream",
     "text": [
      "cpu\n",
      "Net(\n",
      "  (fc1): Linear(in_features=25, out_features=128, bias=True)\n",
      "  (fc2): Linear(in_features=128, out_features=128, bias=True)\n",
      "  (fc3): Linear(in_features=128, out_features=1, bias=True)\n",
      ")\n",
      "Train Epoch: 100 [14/92 (67%)]\tLoss: 0.0186399560\n",
      "Train Epoch: 200 [14/92 (67%)]\tLoss: 0.0075747677\n",
      "Train Epoch: 300 [14/92 (67%)]\tLoss: 0.0035546435\n",
      "Train Epoch: 400 [14/92 (67%)]\tLoss: 0.0017438509\n",
      "Train Epoch: 500 [14/92 (67%)]\tLoss: 0.0009490682\n",
      "Train Epoch: 600 [14/92 (67%)]\tLoss: 0.0005363895\n",
      "Train Epoch: 700 [14/92 (67%)]\tLoss: 0.0003089240\n",
      "Train Epoch: 800 [14/92 (67%)]\tLoss: 0.0001856434\n",
      "Train Epoch: 900 [14/92 (67%)]\tLoss: 0.0001101421\n",
      "Train Epoch: 1000 [14/92 (67%)]\tLoss: 0.0000660775\n",
      "Finished Training\n"
     ]
    }
   ],
   "source": [
    "# Set some params for neural network training.\n",
    "device = torch.device(\"cuda:0\" if torch.cuda.is_available() else \"cpu\")\n",
    "lr = 5e-4\n",
    "net_asm_h2 = None\n",
    "net_asm_h2 = Net(len(checked_features)).to(device).double()\n",
    "criterion = nn.MSELoss().to(device)\n",
    "optimizer = optim.SGD(net_asm_h2.parameters(), lr=lr, momentum=0.9)\n",
    "\n",
    "# Assume that we are on a CUDA machine, then this should print a CUDA device:\n",
    "print(device)\n",
    "print(net_asm_h2)\n",
    "\n",
    "# Train neural network.\n",
    "for epoch in range(1000):  # loop over the dataset multiple times\n",
    "\n",
    "    running_loss = 0.0\n",
    "    for batch_idx, data in enumerate(train_loader, 0):\n",
    "        inputs, labels = data['X'], data['asm_h2']\n",
    "        inputs, labels = inputs.to(device), labels.to(device)\n",
    "        optimizer.zero_grad()\n",
    "        outputs = net_asm_h2(inputs).reshape(-1)\n",
    "        loss = criterion(outputs, labels)\n",
    "        loss.backward()\n",
    "        optimizer.step()\n",
    "    if epoch % 100 == 99:    # print every 2000 mini-batches\n",
    "        print('Train Epoch: {} [{}/{} ({:.0f}%)]\\tLoss: {:.10f}'.format(\n",
    "                epoch+1, batch_idx * len(data), len(train_loader.dataset),\n",
    "                100. * batch_idx / len(train_loader), loss.item()))\n",
    "print('Finished Training')"
   ]
  },
  {
   "cell_type": "code",
   "execution_count": 8,
   "metadata": {
    "scrolled": true
   },
   "outputs": [
    {
     "name": "stdout",
     "output_type": "stream",
     "text": [
      "\n",
      "Evaluating Training set:\n",
      "Positive: 26, Negative: 66\n",
      "TP: 26, FP: 0, TN: 66, FN: 0\n",
      "Correct: 92(92), Precision: 1.000, Recall:, 1.000, F1-Score: 1.000\n",
      "\n",
      "Observing Training Set:\n",
      "All correct.\n",
      "\n",
      "Evaluating Validation set:\n",
      "Positive: 6, Negative: 14\n",
      "TP: 1, FP: 3, TN: 11, FN: 5\n",
      "Correct: 12(20), Precision: 0.250, Recall:, 0.167, F1-Score: 0.200\n",
      "\n",
      "Observing Validation Set:\n",
      "Truth: 7.10, Pred: 5.37, Error: -24.37%, Gender:  2, GT: -1, Pred:  1, Correct:  0, Patient_id: 103\n",
      "Truth: 6.77, Pred: 7.47, Error:  10.44%, Gender:  1, GT:  1, Pred: -1, Correct:  0, Patient_id:  23\n",
      "Truth: 6.09, Pred: 4.64, Error: -23.80%, Gender:  2, GT: -1, Pred:  1, Correct:  0, Patient_id: 126\n",
      "Truth: 5.91, Pred: 9.41, Error:  59.26%, Gender:  2, GT: -1, Pred: -1, Correct:  1, Patient_id: 104\n",
      "Truth: 5.44, Pred: 5.07, Error:  -6.76%, Gender:  2, GT: -1, Pred:  1, Correct:  0, Patient_id:  93\n",
      "Truth: 5.36, Pred: 5.52, Error:   3.05%, Gender:  2, GT:  1, Pred: -1, Correct:  0, Patient_id: 106\n",
      "Truth: 6.85, Pred: 5.62, Error: -17.98%, Gender:  2, GT: -1, Pred: -1, Correct:  1, Patient_id:  92\n",
      "Truth: 6.82, Pred: 8.55, Error:  25.41%, Gender:  1, GT:  1, Pred: -1, Correct:  0, Patient_id:  27\n",
      "Truth: 6.16, Pred: 7.07, Error:  14.78%, Gender:  1, GT:  1, Pred: -1, Correct:  0, Patient_id:  36\n",
      "Truth: 6.97, Pred: 7.06, Error:   1.38%, Gender:  1, GT:  1, Pred: -1, Correct:  0, Patient_id:  47\n",
      "\n",
      "Evaluating Test set:\n",
      "Positive: 5, Negative: 15\n",
      "TP: 1, FP: 1, TN: 14, FN: 4\n",
      "Correct: 15(20), Precision: 0.500, Recall:, 0.200, F1-Score: 0.286\n",
      "\n",
      "Observing Test Set:\n",
      "Truth: 6.90, Pred: 5.42, Error: -21.38%, Gender:  2, GT: -1, Pred: -1, Correct:  1, Patient_id: 116\n",
      "Truth: 5.41, Pred: 5.15, Error:  -4.89%, Gender:  2, GT: -1, Pred:  1, Correct:  0, Patient_id:  96\n",
      "Truth: 6.88, Pred: 6.09, Error: -11.45%, Gender:  2, GT: -1, Pred: -1, Correct:  1, Patient_id:  72\n",
      "Truth: 6.64, Pred: 7.12, Error:   7.21%, Gender:  1, GT:  1, Pred: -1, Correct:  0, Patient_id:  29\n",
      "Truth: 8.42, Pred: 17.78, Error: 111.14%, Gender:  1, GT: -1, Pred: -1, Correct:  1, Patient_id:  43\n",
      "Truth: 6.70, Pred: 5.84, Error: -12.72%, Gender:  2, GT: -1, Pred: -1, Correct:  1, Patient_id:  75\n",
      "Truth: 5.51, Pred: 6.21, Error:  12.69%, Gender:  2, GT: -1, Pred: -1, Correct:  1, Patient_id:  69\n",
      "Truth: 6.99, Pred: 7.40, Error:   5.92%, Gender:  1, GT:  1, Pred: -1, Correct:  0, Patient_id:  28\n",
      "Truth: 6.57, Pred: 7.22, Error:  10.00%, Gender:  2, GT: -1, Pred: -1, Correct:  1, Patient_id:  88\n",
      "Truth: 6.10, Pred: 7.09, Error:  16.26%, Gender:  2, GT: -1, Pred: -1, Correct:  1, Patient_id:  77\n",
      "Truth: 5.17, Pred: 6.49, Error:  25.45%, Gender:  2, GT:  1, Pred: -1, Correct:  0, Patient_id:  64\n",
      "Truth: 6.64, Pred: 7.32, Error:  10.32%, Gender:  1, GT:  1, Pred: -1, Correct:  0, Patient_id:  51\n",
      "Truth: 5.64, Pred: 6.77, Error:  20.10%, Gender:  2, GT: -1, Pred: -1, Correct:  1, Patient_id: 100\n"
     ]
    }
   ],
   "source": [
    "# Observe result asm_h2.\n",
    "dataset_list = [train_dataset, val_dataset, test_dataset]\n",
    "set_names = ['Training', 'Validation', 'Test']\n",
    "for i in range(3):\n",
    "    dataset = dataset_list[i]\n",
    "    with torch.no_grad():\n",
    "        inputs = dataset[:]['X'].to(device)\n",
    "        outputs = net_asm_h2(inputs).reshape(-1)\n",
    "    predicted_asm_h2 = outputs.cpu().numpy()\n",
    "    result_asm_h2 = eval_sarcopenia_asm_h2_nn(predicted_asm_h2, dataset[:]['gender'], dataset[:]['sarcopenia'])\n",
    "    eval_classifier(result_asm_h2, dataset[:]['sarcopenia'], show_detail=True, log=False, setname=set_names[i])\n",
    "    observe_prediction_asm_h2_nn(predicted_asm_h2, dataset[:]['asm_h2'], dataset[:]['gender'], dataset[:]['sarcopenia'], dataset[:]['patient_id'], dont_show=False, log=True, setname=set_names[i])"
   ]
  },
  {
   "cell_type": "markdown",
   "metadata": {},
   "source": [
    "## Method V: Neural network on asm"
   ]
  },
  {
   "cell_type": "code",
   "execution_count": 34,
   "metadata": {},
   "outputs": [
    {
     "name": "stdout",
     "output_type": "stream",
     "text": [
      "Train Epoch: 100 [0/80 (0%)]\tLoss: 0.9916648329\n",
      "Train Epoch: 200 [0/80 (0%)]\tLoss: 0.0850669421\n",
      "Train Epoch: 300 [0/80 (0%)]\tLoss: 0.0150462256\n",
      "Train Epoch: 400 [0/80 (0%)]\tLoss: 0.0031415464\n",
      "Finished Training\n"
     ]
    }
   ],
   "source": [
    "# Set some params for neural network training.\n",
    "device = torch.device(\"cuda:0\" if torch.cuda.is_available() else \"cpu\")\n",
    "lr = 1e-4\n",
    "net = None\n",
    "net = Net(len(checked_features)).to(device).double()\n",
    "criterion = nn.MSELoss()\n",
    "optimizer = optim.SGD(net.parameters(), lr=lr, momentum=0.9)\n",
    "\n",
    "# Train neural network.\n",
    "for epoch in range(400):  # loop over the dataset multiple times\n",
    "    for batch_idx, data in enumerate(train_loader, 0):\n",
    "        inputs, labels = data['X'], data['asm']\n",
    "        inputs, labels = inputs.to(device), labels.to(device)\n",
    "        optimizer.zero_grad()\n",
    "        outputs = net(inputs).reshape(-1)\n",
    "        loss = criterion(outputs, labels)\n",
    "        loss.backward()\n",
    "        optimizer.step()\n",
    "    if epoch % 100 == 99:    # print every 2000 mini-batches\n",
    "        print('Train Epoch: {} [{}/{} ({:.0f}%)]\\tLoss: {:.10f}'.format(\n",
    "                epoch+1, batch_idx * len(data), len(train_loader.dataset),\n",
    "                100. * batch_idx / len(train_loader), loss.item()))\n",
    "\n",
    "print('Finished Training')"
   ]
  },
  {
   "cell_type": "code",
   "execution_count": 37,
   "metadata": {},
   "outputs": [
    {
     "name": "stdout",
     "output_type": "stream",
     "text": [
      "Train set:\n",
      "Predicted:\n",
      "[21.51604286 18.76183458 15.11692752 23.49700909 18.62776534 21.80235034\n",
      " 19.59790015 19.83081822 16.23207669 16.36752272 11.86420155 21.85897932\n",
      " 17.49568971 11.66279535 13.27013715 22.4389429  16.07962757 13.01848611\n",
      " 20.00859028 24.12797361 23.3324172  17.46294856 12.76198634 16.14692013\n",
      " 16.88586018 20.03140751 19.66865723 22.92517148 14.03313084 14.95010851\n",
      " 15.51702528 17.15974731 12.01655337 23.0866153  14.08385433 26.16185111\n",
      " 16.20405545 15.88693947 14.45186425 24.40819023 21.85756808 18.27150885\n",
      " 14.2375261  14.62191746 16.89733194 13.21182835 16.63676616 24.87231345\n",
      " 18.88581743 24.95500087 22.464218   10.20455594 17.14273478 16.17055621\n",
      " 17.1443673  20.74439733 18.65065771 18.76246945 17.7818623  19.84684773\n",
      " 18.38222695 15.73360951 16.24394595 21.5387256  14.31557607 16.56460929\n",
      " 17.26984221 20.26633385 13.16346538 14.55529087 17.65561206 23.65031072\n",
      " 15.98034013 12.81167569 24.38316317 15.97383244 16.99009533 13.41891345\n",
      " 24.33116476 26.63814459]\n",
      "Ground truth:\n",
      "[21.524 18.702 15.157 23.577 18.634 21.802 19.668 19.863 16.199 16.292\n",
      " 11.689 21.867 17.492 11.639 13.192 22.56  16.033 13.007 19.98  24.117\n",
      " 23.337 17.542 12.778 16.139 16.886 20.024 19.676 22.947 14.086 14.902\n",
      " 15.487 17.09  11.997 22.911 14.03  26.126 16.182 15.86  14.432 24.413\n",
      " 21.899 18.252 14.263 14.828 16.893 13.232 16.655 24.811 18.928 24.964\n",
      " 22.591 10.201 17.11  16.186 17.109 20.73  18.637 18.818 17.807 19.851\n",
      " 18.377 15.728 16.295 21.469 14.392 16.612 17.252 20.26  13.114 14.584\n",
      " 17.646 23.627 16.027 12.748 24.433 15.925 16.975 13.356 24.332 26.694]\n",
      "Evaluating Train set:\n",
      "Positive: 23, Negative: 57\n",
      "TP: 23, FP: 0, TN: 57, FN: 0\n",
      "Correct: 80(80), Precision: 1.000, Recall:, 1.000, F1-Score: 1.000\n",
      "\n",
      "Validation set:\n",
      "Predicted:\n",
      "[15.8562908  25.04066846 16.34426725 12.89052478 15.15533064 15.06802889\n",
      " 72.19615435 28.0695356  21.30125817 19.49439446 16.81465792 14.81053998\n",
      " 14.90497721 12.8193205  13.5324249  20.72588431 27.10701138 24.98775051\n",
      " 24.35190049 15.01779125 20.10360139 24.3626431  14.27376477 18.1424782\n",
      " 18.29785417 19.42946021]\n",
      "Ground truth:\n",
      "[13.358 26.75  17.762 13.662 14.107 19.183 16.167 19.024 17.783 19.793\n",
      " 13.798 14.428 12.906 13.954 15.05  22.805 14.747 24.829 21.78  11.665\n",
      " 17.864 23.051 14.754 15.228 16.026 19.51 ]\n",
      "Evaluating Validation set:\n",
      "Positive: 11, Negative: 15\n",
      "TP: 5, FP: 0, TN: 15, FN: 6\n",
      "Correct: 20(26), Precision: 1.000, Recall:, 0.455, F1-Score: 0.625\n",
      "\n",
      "Test set:\n",
      "Predicted:\n",
      "[19.6226098  19.44176003 21.02170236 21.98089105 17.40004167 20.15166109\n",
      " 16.6523131  22.54960415 21.72085122 21.97592974 18.73821304 14.38099303\n",
      " 19.74422078 12.36250698 20.33431307 11.30747577 19.85272531 23.39634838\n",
      " 23.23154184 15.79710803 30.15751128 19.32767076 13.72953516 19.34341946\n",
      " 23.1101196  12.56223328]\n",
      "Ground truth:\n",
      "[17.664 22.065 21.555 25.206 20.527 23.317 18.481 22.893 21.926 21.909\n",
      " 14.547 13.994 15.786 13.723 23.05  13.469 17.204 26.401 21.159 16.162\n",
      " 29.854 14.534 11.141 19.49  23.795 12.237]\n",
      "Evaluating Test set:\n",
      "Positive: 3, Negative: 23\n",
      "TP: 1, FP: 3, TN: 20, FN: 2\n",
      "Correct: 21(26), Precision: 0.250, Recall:, 0.333, F1-Score: 0.286\n",
      "\n"
     ]
    }
   ],
   "source": [
    "# Observe result asm.\n",
    "dataset_list = [train_dataset, val_dataset, test_dataset]\n",
    "set_names = ['Train', 'Validation', 'Test']\n",
    "for i in range(3):\n",
    "    dataset = dataset_list[i]\n",
    "    with torch.no_grad():\n",
    "        inputs = dataset[:]['X'].to(device)\n",
    "        outputs = net(inputs).reshape(-1)\n",
    "    print(set_names[i] + ' set:')\n",
    "    print(\"Predicted:\")\n",
    "    print(outputs.cpu().numpy())\n",
    "    print(\"Ground truth:\")\n",
    "    print(dataset[:]['asm'].cpu().numpy())\n",
    "    predicted_asm = outputs.cpu().numpy()\n",
    "    result_asm = eval_sarcopenia_asm_nn(predicted_asm, dataset[:]['gender'], dataset[:]['height_squared'].cpu().numpy(), dataset[:]['sarcopenia'])\n",
    "    eval_classifier(result_asm, dataset[:]['sarcopenia'], show_detail=True, log=False, setname=set_names[i])"
   ]
  },
  {
   "cell_type": "markdown",
   "metadata": {},
   "source": []
  }
 ],
 "metadata": {
  "kernelspec": {
   "display_name": "Python 3",
   "language": "python",
   "name": "python3"
  },
  "language_info": {
   "codemirror_mode": {
    "name": "ipython",
    "version": 3
   },
   "file_extension": ".py",
   "mimetype": "text/x-python",
   "name": "python",
   "nbconvert_exporter": "python",
   "pygments_lexer": "ipython3",
   "version": "3.6.4"
  }
 },
 "nbformat": 4,
 "nbformat_minor": 2
}
