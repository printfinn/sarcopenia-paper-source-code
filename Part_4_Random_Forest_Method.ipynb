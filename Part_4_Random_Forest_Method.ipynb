{
 "cells": [
  {
   "cell_type": "markdown",
   "metadata": {},
   "source": [
    "# Part IV Random Forest Method"
   ]
  },
  {
   "cell_type": "code",
   "execution_count": 7,
   "metadata": {},
   "outputs": [
    {
     "data": {
      "application/javascript": [
       "IPython.OutputArea.prototype._should_scroll = function(lines) {\n",
       "    return false;\n",
       "}"
      ],
      "text/plain": [
       "<IPython.core.display.Javascript object>"
      ]
     },
     "metadata": {},
     "output_type": "display_data"
    }
   ],
   "source": [
    "%%javascript\n",
    "IPython.OutputArea.prototype._should_scroll = function(lines) {\n",
    "    return false;\n",
    "}"
   ]
  },
  {
   "cell_type": "code",
   "execution_count": 8,
   "metadata": {
    "scrolled": true
   },
   "outputs": [
    {
     "name": "stdout",
     "output_type": "stream",
     "text": [
      "The autoreload extension is already loaded. To reload it, use:\n",
      "  %reload_ext autoreload\n"
     ]
    }
   ],
   "source": [
    "# Run some setup code for this notebook.\n",
    "import glob\n",
    "import matplotlib.pyplot as plt\n",
    "import numpy as np\n",
    "import os\n",
    "import ipywidgets as widgets\n",
    "\n",
    "from ipywidgets import VBox, HBox, Layout\n",
    "\n",
    "\n",
    "from sklearn import preprocessing\n",
    "from sklearn.utils import shuffle\n",
    "\n",
    "from sklearn.ensemble import RandomForestClassifier\n",
    "from sklearn.ensemble import RandomForestRegressor\n",
    "\n",
    "from utils.checkbox import *\n",
    "from utils.data_utils import *\n",
    "#from utils.data_processing import *\n",
    "from utils.svm_modeling import *\n",
    "from utils.model_eval import *\n",
    "from __future__ import print_function\n",
    "\n",
    "# This is a bit of magic to make matplotlib figures appear inline in the\n",
    "# notebook rather than in a new window.\n",
    "%matplotlib inline\n",
    "plt.rcParams['figure.figsize'] = (15.0, 8.0) # set default size of plots\n",
    "plt.rcParams['image.interpolation'] = 'nearest'\n",
    "plt.rcParams['image.cmap'] = 'gray'\n",
    "\n",
    "%load_ext autoreload\n",
    "%autoreload 2"
   ]
  },
  {
   "cell_type": "code",
   "execution_count": 9,
   "metadata": {},
   "outputs": [
    {
     "name": "stdout",
     "output_type": "stream",
     "text": [
      "Feature dict loaded.\n",
      "\n"
     ]
    }
   ],
   "source": [
    "# Load data.\n",
    "path = 'dataset_new'\n",
    "feature_dict = load_features(path, dont_show=True)\n",
    "#show_feature_details(feature_dict)"
   ]
  },
  {
   "cell_type": "code",
   "execution_count": 10,
   "metadata": {
    "scrolled": false
   },
   "outputs": [
    {
     "data": {
      "application/vnd.jupyter.widget-view+json": {
       "model_id": "6ef677052a764f0ca0609cdba9aaaf2f",
       "version_major": 2,
       "version_minor": 0
      },
      "text/html": [
       "<p>Failed to display Jupyter Widget of type <code>HBox</code>.</p>\n",
       "<p>\n",
       "  If you're reading this message in the Jupyter Notebook or JupyterLab Notebook, it may mean\n",
       "  that the widgets JavaScript is still loading. If this message persists, it\n",
       "  likely means that the widgets JavaScript library is either not installed or\n",
       "  not enabled. See the <a href=\"https://ipywidgets.readthedocs.io/en/stable/user_install.html\">Jupyter\n",
       "  Widgets Documentation</a> for setup instructions.\n",
       "</p>\n",
       "<p>\n",
       "  If you're reading this message in another frontend (for example, a static\n",
       "  rendering on GitHub or <a href=\"https://nbviewer.jupyter.org/\">NBViewer</a>),\n",
       "  it may mean that your frontend doesn't currently support widgets.\n",
       "</p>\n"
      ],
      "text/plain": [
       "HBox(children=(VBox(children=(Checkbox(value=False, description='1_24h_urinary_microalbumin'), Checkbox(value=False, description='2_24h_urine_protein'), Checkbox(value=False, description='3_25oh_vd'), Checkbox(value=False, description='4_25oh_vd3'), Checkbox(value=False, description='5_2h_fasting_glucose'), Checkbox(value=False, description='6_8_blood_cortisol'), Checkbox(value=True, description='7_age'), Checkbox(value=False, description='8_alt'), Checkbox(value=False, description='9_ast'), Checkbox(value=False, description='10_blood_protein'), Checkbox(value=False, description='11_blood_urea_nitrogen'), Checkbox(value=False, description='12_blood_uric_acid'), Checkbox(value=False, description='13_c_peptide'), Checkbox(value=False, description='14_c_reactive_protein'), Checkbox(value=False, description='15_calf'))), VBox(children=(Checkbox(value=False, description='16_creatine_kinase'), Checkbox(value=False, description='17_creatinine'), Checkbox(value=False, description='18_cystatin_c'), Checkbox(value=False, description='19_fasting_glucose'), Checkbox(value=False, description='20_fasting_insulin'), Checkbox(value=False, description='21_ft3'), Checkbox(value=True, description='22_ft4'), Checkbox(value=True, description='23_gender'), Checkbox(value=False, description='24_glycated_hemoglobin'), Checkbox(value=False, description='25_grip_strength'), Checkbox(value=False, description='26_hbg'), Checkbox(value=False, description='27_hdlc'), Checkbox(value=False, description='28_height'), Checkbox(value=False, description='29_movement_hours'), Checkbox(value=False, description='30_plt'))), VBox(children=(Checkbox(value=False, description='31_pth'), Checkbox(value=False, description='32_rbc'), Checkbox(value=False, description='33_sleep_time'), Checkbox(value=False, description='34_total_cholesterol'), Checkbox(value=False, description='35_triglyceride'), Checkbox(value=False, description='36_tsh'), Checkbox(value=False, description='37_wbc'), Checkbox(value=False, description='38_weight'), Checkbox(value=False, description='39_h2'), Checkbox(value=False, description='40_6m_speed'), Checkbox(value=True, description='41_bmi'), Checkbox(value=False, description='42_history_of_fall'), Checkbox(value=False, description='43_history_of_cerebrovascular_disease'), Checkbox(value=False, description='44_course_of_diabetes'), Checkbox(value=False, description='45_exogenous_insulin'))), VBox(children=(Checkbox(value=False, description='46_oral_antidiabetic_drug'), Checkbox(value=False, description='47_hypertension_duration'), Checkbox(value=False, description='48_history_of_coronary_heart_disease'), Checkbox(value=False, description='49_ldlc'), Checkbox(value=False, description='50_smoking_history'), Checkbox(value=False, description='51_has_hypertension'), Checkbox(value=True, description='52_do_exercise'), Checkbox(value=False, description='53_sulfonylureas'), Checkbox(value=False, description='54_non_sulfonylureas'), Checkbox(value=True, description='55_biguanides'), Checkbox(value=False, description='56_glycosidase_inhibitor'), Checkbox(value=False, description='57_chinese_medicine'), Checkbox(value=False, description='58_thiazolidinediones'), Checkbox(value=False, description='59_glp1ddp4'), Checkbox(value=False, description='60_job_worker'))), VBox(children=(Checkbox(value=False, description='61_noon_nap'), Checkbox(value=False, description='62_snore'), Checkbox(value=False, description='63_chewing_ability'), Checkbox(value=False, description='64_fundal_photograph'), Checkbox(value=False, description='65_dpn'), Checkbox(value=False, description='66_lower_limb_doppler'), Checkbox(value=False, description='997_blood_Ca')))))"
      ]
     },
     "metadata": {},
     "output_type": "display_data"
    }
   ],
   "source": [
    "# Select some features.\n",
    "use_all = False\n",
    "#use_all = True\n",
    "\n",
    "level_1 = [7, 41, 25, 60, 16, 17, 23, 28, 30, 31, 38, 40, 42, 43, 44, 46, 47, 48, 52, 56, 61, 62, 63, 64, 65, 66]\n",
    "level_2 = [7, 41, 25]\n",
    "cui_statistic = [7, 11, 15, 22, 23, 25, 29, 35, 41, 44, 55, 62]\n",
    "cui_1 = [7, 22, 23, 29, 41, 55]\n",
    "cui_2 = [7, 12, 15, 22, 23, 25, 35, 41, 44, 55, 62]\n",
    "cui_3 = [7, 22, 23, 41, 52, 55]\n",
    "include_feature_groups = []\n",
    "include_feature_index = cui_3\n",
    "exclude_feature_index = []\n",
    "\n",
    "if use_all:\n",
    "    include_feature_index = np.arange(1, len(feature_dict), 1)\n",
    "\n",
    "feature_pre_selected = pre_select_feature(include_feature_groups, include_feature_index, exclude_feature_index, dont_show=True)\n",
    "precheck_boxes = generate_precheck_boxes(feature_pre_selected, feature_dict, dont_show=True)\n",
    "\n",
    "hbox = gen_checkbox(precheck_boxes, feature_dict)\n",
    "HBox(hbox)"
   ]
  },
  {
   "cell_type": "code",
   "execution_count": 14,
   "metadata": {
    "scrolled": true
   },
   "outputs": [
    {
     "name": "stdout",
     "output_type": "stream",
     "text": [
      "Checked features:\n",
      "  [7, 22, 23, 41, 52, 55]\n",
      "Loading (6) features, done.\n"
     ]
    }
   ],
   "source": [
    "# Turn on / off log.\n",
    "#use_log = False\n",
    "use_log = True\n",
    "\n",
    "# Load data.\n",
    "checked_features = review_checkbox(hbox, dont_show=False, log=use_log)\n",
    "X = load_using_features(feature_dict, checked_features, dont_show=True)\n",
    "asm, asm_h2, sarcopenia, gender, height_squared, patient_id = load_asm(), load_asm_over_h2(), load_sarcopenia(), load_gender(), load_height_squared(), load_index()\n",
    "\n",
    "# Random shuffle. Comment this line if you want to keep the shuffling order.\n",
    "shuffle_index = np.random.permutation(X.shape[0])\n",
    "\n",
    "# Data Rescaling.\n",
    "scaler = set_scaler()\n",
    "#X_normalized = scaler.fit_transform(X)\n",
    "\n",
    "# Split dataset.\n",
    "num_train = 112\n",
    "num_val = 20\n",
    "num_test = 0\n",
    "asm_train, asm_val, asm_test = shuffle_feature(asm, shuffle_index, num_train, num_val, num_test)\n",
    "asm_h2_train, asm_h2_val, asm_h2_test = shuffle_feature(asm_h2, shuffle_index, num_train, num_val, num_test)\n",
    "sarcopenia_train, sarcopenia_val, sarcopenia_test = shuffle_feature(sarcopenia, shuffle_index, num_train, num_val, num_test)\n",
    "gender_train, gender_val, gender_test = shuffle_feature(gender, shuffle_index, num_train, num_val, num_test)\n",
    "height_squared_train, height_squared_val, height_squared_test = shuffle_feature(height_squared, shuffle_index, num_train, num_val, num_test)\n",
    "patient_id_train, patient_id_val, patient_id_test = shuffle_feature(patient_id, shuffle_index, num_train, num_val, num_test)\n",
    "X_train, X_val, X_test = shuffle_feature(X, shuffle_index, num_train, num_val, num_test)\n",
    "#X_train, X_val, X_test = scaler.fit_transform(X_train), scaler.transform(X_val), scaler.transform(X_test)\n"
   ]
  },
  {
   "cell_type": "markdown",
   "metadata": {},
   "source": [
    "## Method I: Random Forest Classifier on Sarcopenia"
   ]
  },
  {
   "cell_type": "code",
   "execution_count": 15,
   "metadata": {},
   "outputs": [
    {
     "name": "stdout",
     "output_type": "stream",
     "text": [
      "[0.21540563 0.27216855 0.08111419 0.3519862  0.04044598 0.03887945]\n",
      "\n",
      "Observing Training Set:\n",
      "All correct.\n",
      "\n",
      "Evaluating Training set:\n",
      "Positive: 30, Negative: 82\n",
      "TP: 30, FP: 0, TN: 82, FN: 0\n",
      "Correct: 112(112), Precision: 1.000, Recall: 1.000, Specificity: 1.000, F1-Score: 1.000\n",
      "\n",
      "\n",
      "Observing Validation Set:\n",
      "Truth:  1, Predicted: -1, Patient id: 101\n",
      "Truth: -1, Predicted:  1, Patient id:  59\n",
      "Truth:  1, Predicted: -1, Patient id:  65\n",
      "Truth:  1, Predicted: -1, Patient id:  42\n",
      "Truth: -1, Predicted:  1, Patient id:  24\n",
      "\n",
      "Evaluating Validation set:\n",
      "Positive: 7, Negative: 13\n",
      "TP: 4, FP: 2, TN: 11, FN: 3\n",
      "Correct: 15(20), Precision: 0.667, Recall: 0.571, Specificity: 0.846, F1-Score: 0.615\n",
      "\n"
     ]
    }
   ],
   "source": [
    "# Train SVC.\n",
    "clf_RFC = RandomForestClassifier(n_estimators=80, max_depth=None, random_state=0)\n",
    "clf_RFC.fit(X_train, sarcopenia_train)\n",
    "print(clf_RFC.feature_importances_)\n",
    "\n",
    "# Observe Model.\n",
    "observe_prediction_SVC(clf_RFC, X_train, sarcopenia_train, patient_id_train, dont_show=False, log=use_log, setname='Training')\n",
    "result_train_RFC = clf_RFC.predict(X_train)\n",
    "eval_classifier(result_train_RFC, sarcopenia_train, show_detail=True, log=use_log, setname='Training')\n",
    "\n",
    "observe_prediction_SVC(clf_RFC, X_val, sarcopenia_val, patient_id_val, dont_show=False, log=use_log, setname='Validation')\n",
    "result_val_RFC = clf_RFC.predict(X_val)\n",
    "eval_classifier(result_val_RFC, sarcopenia_val, show_detail=True, log=use_log, setname='Validation')\n",
    "\n"
   ]
  },
  {
   "cell_type": "markdown",
   "metadata": {},
   "source": [
    "## Method II: Random Forest Regressor on asm/h2 (appendicular skeletal muscle mass / squared height)"
   ]
  },
  {
   "cell_type": "code",
   "execution_count": 16,
   "metadata": {},
   "outputs": [
    {
     "name": "stdout",
     "output_type": "stream",
     "text": [
      "[0.13245893 0.13871995 0.30860145 0.38228352 0.01822559 0.01971056]\n",
      "\n",
      "Training Set:\n",
      "Truth: 5.36, Predicted: 5.87, Error:   9.51%, Gender:  2, GT:  1, Pred: -1, Correct:  0, Patient_id:  84\n",
      "Truth: 4.25, Predicted: 4.68, Error:  10.24%, Gender:  2, GT:  1, Pred:  1, Correct:  1, Patient_id: 102\n",
      "Truth: 5.58, Predicted: 6.60, Error:  18.29%, Gender:  1, GT:  1, Pred:  1, Correct:  1, Patient_id:  20\n",
      "Truth: 5.24, Predicted: 5.69, Error:   8.57%, Gender:  2, GT:  1, Pred: -1, Correct:  0, Patient_id: 107\n",
      "Truth: 6.97, Predicted: 7.15, Error:   2.54%, Gender:  1, GT:  1, Pred: -1, Correct:  0, Patient_id:  47\n",
      "Truth: 5.36, Predicted: 5.57, Error:   3.98%, Gender:  2, GT:  1, Pred: -1, Correct:  0, Patient_id: 106\n",
      "Truth: 4.84, Predicted: 5.34, Error:  10.19%, Gender:  2, GT:  1, Pred:  1, Correct:  1, Patient_id:  94\n",
      "Truth: 4.85, Predicted: 5.68, Error:  17.26%, Gender:  1, GT:  1, Pred:  1, Correct:  1, Patient_id:  58\n",
      "Truth: 4.87, Predicted: 5.47, Error:  12.36%, Gender:  2, GT:  1, Pred: -1, Correct:  0, Patient_id:  87\n",
      "Truth: 6.90, Predicted: 7.09, Error:   2.71%, Gender:  1, GT:  1, Pred: -1, Correct:  0, Patient_id:  33\n",
      "\n",
      "Evaluating Training set:\n",
      "Positive: 30, Negative: 82\n",
      "TP: 24, FP: 0, TN: 82, FN: 6\n",
      "Correct: 106(112), Precision: 1.000, Recall: 0.800, Specificity: 1.000, F1-Score: 0.889\n",
      "\n",
      "\n",
      "Validation Set:\n",
      "Truth: 5.03, Predicted: 5.82, Error:  15.87%, Gender:  2, GT:  1, Pred: -1, Correct:  0, Patient_id: 117\n",
      "Truth: 6.90, Predicted: 5.63, Error: -18.46%, Gender:  2, GT: -1, Pred: -1, Correct:  1, Patient_id: 116\n",
      "Truth: 8.16, Predicted: 7.19, Error: -11.87%, Gender:  1, GT: -1, Pred: -1, Correct:  1, Patient_id:  10\n",
      "Truth: 4.81, Predicted: 5.48, Error:  14.05%, Gender:  2, GT:  1, Pred: -1, Correct:  0, Patient_id: 101\n",
      "Truth: 8.72, Predicted: 6.76, Error: -22.45%, Gender:  1, GT: -1, Pred:  1, Correct:  0, Patient_id:  59\n",
      "Truth: 6.64, Predicted: 5.68, Error: -14.39%, Gender:  2, GT: -1, Pred: -1, Correct:  1, Patient_id: 118\n",
      "Truth: 5.35, Predicted: 5.67, Error:   5.92%, Gender:  2, GT:  1, Pred: -1, Correct:  0, Patient_id:  65\n",
      "Truth: 4.70, Predicted: 5.43, Error:  15.58%, Gender:  2, GT:  1, Pred: -1, Correct:  0, Patient_id:  85\n",
      "Truth: 6.62, Predicted: 7.41, Error:  11.89%, Gender:  1, GT:  1, Pred: -1, Correct:  0, Patient_id:  42\n",
      "Truth: 5.51, Predicted: 6.38, Error:  15.77%, Gender:  2, GT: -1, Pred: -1, Correct:  1, Patient_id:  69\n",
      "Truth: 8.28, Predicted: 6.85, Error: -17.26%, Gender:  1, GT: -1, Pred:  1, Correct:  0, Patient_id:  24\n",
      "\n",
      "Evaluating Validation set:\n",
      "Positive: 7, Negative: 13\n",
      "TP: 2, FP: 2, TN: 11, FN: 5\n",
      "Correct: 13(20), Precision: 0.500, Recall: 0.286, Specificity: 0.846, F1-Score: 0.364\n",
      "\n"
     ]
    }
   ],
   "source": [
    "# Train RFR on asm/h2.\n",
    "clf_RFR_asmh2 = RandomForestRegressor(n_estimators=80, max_depth=None, random_state=0)\n",
    "clf_RFR_asmh2.fit(X_train, asm_h2_train)\n",
    "print(clf_RFR_asmh2.feature_importances_)\n",
    "\n",
    "# Training Set:\n",
    "observe_prediction_asm_h2_SVR(clf_RFR_asmh2, X_train, asm_h2_train, gender_train, sarcopenia_train, patient_id_train, dont_show=False, log=use_log, setname='Training')\n",
    "result_train_asm_h2_RFR = eval_sarcopenia_asm_h2(clf_RFR_asmh2, X_train, gender_train, sarcopenia_train)\n",
    "eval_classifier(result_train_asm_h2_RFR, sarcopenia_train, show_detail=True, log=use_log, setname='Training')\n",
    "\n",
    "# Test Set:\n",
    "observe_prediction_asm_h2_SVR(clf_RFR_asmh2, X_val, asm_h2_val, gender_val, sarcopenia_val, patient_id_val, dont_show=False, log=use_log, setname='Validation')\n",
    "result_val_asm_h2_RFR = eval_sarcopenia_asm_h2(clf_RFR_asmh2, X_val, gender_val, sarcopenia_val)\n",
    "eval_classifier(result_val_asm_h2_RFR, sarcopenia_val, show_detail=True, log=use_log, setname='Validation')\n"
   ]
  },
  {
   "cell_type": "markdown",
   "metadata": {},
   "source": [
    "## Method III: Random Forest Regressor on asm (appendicular skeletal muscle mass)"
   ]
  },
  {
   "cell_type": "code",
   "execution_count": 17,
   "metadata": {
    "scrolled": false
   },
   "outputs": [
    {
     "name": "stdout",
     "output_type": "stream",
     "text": [
      "[0.097945   0.08904295 0.57218915 0.21525303 0.01096135 0.01460852]\n",
      "\n",
      "Training Set:\n",
      "Truth: 16.66, Pred: 18.16, ASM/h2: 7.01, Error:   9.05%, Gender:  1, GT:  1, Pred: -1, Correct:  0, Patient_id:  50\n",
      "Truth: 14.58, Pred: 15.19, ASM/h2: 5.58, Error:   4.17%, Gender:  2, GT:  1, Pred: -1, Correct:  0, Patient_id:  84\n",
      "Truth: 10.20, Pred: 11.48, ASM/h2: 4.78, Error:  12.53%, Gender:  2, GT:  1, Pred:  1, Correct:  1, Patient_id: 102\n",
      "Truth: 17.09, Pred: 19.49, ASM/h2: 6.36, Error:  14.02%, Gender:  1, GT:  1, Pred:  1, Correct:  1, Patient_id:  20\n",
      "Truth: 12.75, Pred: 13.64, ASM/h2: 5.60, Error:   6.96%, Gender:  2, GT:  1, Pred: -1, Correct:  0, Patient_id: 107\n",
      "Truth: 19.67, Pred: 20.43, ASM/h2: 7.24, Error:   3.87%, Gender:  1, GT:  1, Pred: -1, Correct:  0, Patient_id:  47\n",
      "Truth: 19.02, Pred: 19.80, ASM/h2: 7.10, Error:   4.08%, Gender:  1, GT:  1, Pred: -1, Correct:  0, Patient_id:  27\n",
      "Truth: 17.76, Pred: 19.52, ASM/h2: 7.44, Error:   9.88%, Gender:  1, GT:  1, Pred: -1, Correct:  0, Patient_id:  23\n",
      "Truth: 13.72, Pred: 14.20, ASM/h2: 5.55, Error:   3.47%, Gender:  2, GT:  1, Pred: -1, Correct:  0, Patient_id: 106\n",
      "Truth: 13.01, Pred: 14.36, ASM/h2: 5.98, Error:  10.37%, Gender:  2, GT: -1, Pred: -1, Correct:  1, Patient_id:  96\n",
      "Truth: 11.64, Pred: 12.82, ASM/h2: 5.34, Error:  10.17%, Gender:  2, GT:  1, Pred:  1, Correct:  1, Patient_id:  94\n",
      "Truth: 13.36, Pred: 15.26, ASM/h2: 5.54, Error:  14.26%, Gender:  1, GT:  1, Pred:  1, Correct:  1, Patient_id:  58\n",
      "Truth: 19.85, Pred: 22.83, ASM/h2: 8.19, Error:  15.03%, Gender:  1, GT: -1, Pred: -1, Correct:  1, Patient_id:  31\n",
      "Truth: 11.69, Pred: 13.15, ASM/h2: 5.47, Error:  12.47%, Gender:  2, GT:  1, Pred: -1, Correct:  0, Patient_id:  87\n",
      "\n",
      "Evaluating Training set:\n",
      "Positive: 30, Negative: 82\n",
      "TP: 22, FP: 0, TN: 82, FN: 8\n",
      "Correct: 104(112), Precision: 1.000, Recall: 0.733, Specificity: 1.000, F1-Score: 0.846\n",
      "\n",
      "\n",
      "Validation Set:\n",
      "Truth: 24.96, Pred: 27.60, ASM/h2: 9.12, Error:  10.58%, Gender:  1, GT: -1, Pred: -1, Correct:  1, Patient_id:  55\n",
      "Truth: 18.93, Pred: 16.16, ASM/h2: 5.59, Error: -14.63%, Gender:  2, GT: -1, Pred: -1, Correct:  1, Patient_id:  74\n",
      "Truth: 17.66, Pred: 14.29, ASM/h2: 5.58, Error: -19.12%, Gender:  2, GT: -1, Pred: -1, Correct:  1, Patient_id: 116\n",
      "Truth: 23.58, Pred: 20.98, ASM/h2: 7.26, Error: -11.00%, Gender:  1, GT: -1, Pred: -1, Correct:  1, Patient_id:  10\n",
      "Truth: 12.00, Pred: 13.82, ASM/h2: 5.54, Error:  15.20%, Gender:  2, GT:  1, Pred: -1, Correct:  0, Patient_id: 101\n",
      "Truth: 26.69, Pred: 20.15, ASM/h2: 6.58, Error: -24.50%, Gender:  1, GT: -1, Pred:  1, Correct:  0, Patient_id:  59\n",
      "Truth: 17.20, Pred: 15.43, ASM/h2: 5.95, Error: -10.31%, Gender:  2, GT: -1, Pred: -1, Correct:  1, Patient_id: 118\n",
      "Truth: 21.55, Pred: 20.45, ASM/h2: 6.91, Error:  -5.14%, Gender:  1, GT: -1, Pred:  1, Correct:  0, Patient_id:   5\n",
      "Truth: 13.36, Pred: 14.12, ASM/h2: 5.65, Error:   5.68%, Gender:  2, GT:  1, Pred: -1, Correct:  0, Patient_id:  65\n",
      "Truth: 18.64, Pred: 15.98, ASM/h2: 5.53, Error: -14.24%, Gender:  1, GT:  1, Pred:  1, Correct:  1, Patient_id:  16\n",
      "Truth: 11.14, Pred: 13.51, ASM/h2: 5.70, Error:  21.25%, Gender:  2, GT:  1, Pred: -1, Correct:  0, Patient_id:  85\n",
      "Truth: 19.86, Pred: 16.14, ASM/h2: 5.39, Error: -18.76%, Gender:  1, GT:  1, Pred:  1, Correct:  1, Patient_id:  29\n",
      "Truth: 17.81, Pred: 23.09, ASM/h2: 8.59, Error:  29.69%, Gender:  1, GT:  1, Pred: -1, Correct:  0, Patient_id:  42\n",
      "Truth: 13.23, Pred: 15.05, ASM/h2: 6.26, Error:  13.72%, Gender:  2, GT: -1, Pred: -1, Correct:  1, Patient_id:  69\n",
      "Truth: 22.80, Pred: 20.48, ASM/h2: 7.43, Error: -10.18%, Gender:  1, GT: -1, Pred: -1, Correct:  1, Patient_id:  24\n",
      "\n",
      "Evaluating Validation set:\n",
      "Positive: 7, Negative: 13\n",
      "TP: 3, FP: 2, TN: 11, FN: 4\n",
      "Correct: 14(20), Precision: 0.600, Recall: 0.429, Specificity: 0.846, F1-Score: 0.500\n",
      "\n"
     ]
    }
   ],
   "source": [
    "# Train RFR on asm.\n",
    "clf_RFR = RandomForestRegressor(n_estimators=200, max_depth=None, random_state=0)\n",
    "clf_RFR.fit(X_train, asm_train)\n",
    "print(clf_RFR.feature_importances_)\n",
    "\n",
    "# Training Set.\n",
    "observe_prediction_asm_SVR(clf_RFR, X_train, asm_train, gender_train, height_squared_train, sarcopenia_train, patient_id_train, dont_show=False, log=use_log, setname='Training')\n",
    "result_train_asm_RFR = eval_sarcopenia_asm(clf_RFR, X_train, gender_train, height_squared_train, sarcopenia_train)\n",
    "eval_classifier(result_train_asm_RFR, sarcopenia_train, show_detail=True, log=use_log, setname='Training')\n",
    "\n",
    "# Test Set.\n",
    "observe_prediction_asm_SVR(clf_RFR, X_val, asm_val, gender_val, height_squared_val, sarcopenia_val, patient_id_val, dont_show=False, log=use_log, setname='Validation')\n",
    "result_val_asm_RFR = eval_sarcopenia_asm(clf_RFR, X_val, gender_val, height_squared_val, sarcopenia_val)\n",
    "eval_classifier(result_val_asm_RFR, sarcopenia_val, show_detail=True, log=use_log, setname='Validation')\n"
   ]
  },
  {
   "cell_type": "markdown",
   "metadata": {},
   "source": [
    "## Measurement Index\n",
    "$$Precision = \\frac{True\\ Positive}{True\\ Positve + False\\ Positive}$$\n",
    "$$Recall = \\frac{True\\ Positive}{True\\ Positive + False\\ Negative}$$\n",
    "$$Specificity = \\frac{True\\ Negative}{True\\ Negative + False\\ Positive}$$\n",
    "$$F1\\_Score = \\frac{2 \\times Precision \\times Recall}{Precision + Recall}$$\n",
    "\n",
    "\n",
    "|       |          | Actual   | Class  |\n",
    "| :---  | ---      | ---      |    --- |\n",
    "|       |          | Positive |Negative|\n",
    "|Predict|Positive  | TP       | FP     |\n",
    "| Class |Negative  | FN       | TN     |\n"
   ]
  },
  {
   "cell_type": "code",
   "execution_count": null,
   "metadata": {},
   "outputs": [],
   "source": []
  }
 ],
 "metadata": {
  "kernelspec": {
   "display_name": "Python 3",
   "language": "python",
   "name": "python3"
  },
  "language_info": {
   "codemirror_mode": {
    "name": "ipython",
    "version": 3
   },
   "file_extension": ".py",
   "mimetype": "text/x-python",
   "name": "python",
   "nbconvert_exporter": "python",
   "pygments_lexer": "ipython3",
   "version": "3.6.4"
  }
 },
 "nbformat": 4,
 "nbformat_minor": 2
}
