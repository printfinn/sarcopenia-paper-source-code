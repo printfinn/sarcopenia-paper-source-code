{
 "cells": [
  {
   "cell_type": "markdown",
   "metadata": {},
   "source": [
    "# Part 6: k-fold Cross Validation with RF"
   ]
  },
  {
   "cell_type": "code",
   "execution_count": 8,
   "metadata": {},
   "outputs": [
    {
     "data": {
      "application/javascript": [
       "IPython.OutputArea.prototype._should_scroll = function(lines) {\n",
       "    return false;\n",
       "}"
      ],
      "text/plain": [
       "<IPython.core.display.Javascript object>"
      ]
     },
     "metadata": {},
     "output_type": "display_data"
    }
   ],
   "source": [
    "%%javascript\n",
    "IPython.OutputArea.prototype._should_scroll = function(lines) {\n",
    "    return false;\n",
    "}"
   ]
  },
  {
   "cell_type": "code",
   "execution_count": 66,
   "metadata": {
    "scrolled": true
   },
   "outputs": [
    {
     "name": "stdout",
     "output_type": "stream",
     "text": [
      "The autoreload extension is already loaded. To reload it, use:\n",
      "  %reload_ext autoreload\n"
     ]
    }
   ],
   "source": [
    "# Run some setup code for this notebook.\n",
    "import glob\n",
    "import matplotlib.pyplot as plt\n",
    "import numpy as np\n",
    "import os\n",
    "import ipywidgets as widgets\n",
    "\n",
    "from ipywidgets import VBox, HBox, Layout\n",
    "\n",
    "\n",
    "from sklearn import preprocessing\n",
    "from sklearn.utils import shuffle\n",
    "\n",
    "from sklearn.ensemble import RandomForestClassifier\n",
    "from sklearn.ensemble import RandomForestRegressor\n",
    "\n",
    "from sklearn.metrics import roc_curve, auc, roc_auc_score\n",
    "from scipy import interp\n",
    "\n",
    "from utils.checkbox import *\n",
    "from utils.data_utils import *\n",
    "#from utils.data_processing import *\n",
    "from utils.svm_modeling import *\n",
    "from utils.model_eval import *\n",
    "from __future__ import print_function\n",
    "\n",
    "# This is a bit of magic to make matplotlib figures appear inline in the\n",
    "# notebook rather than in a new window.\n",
    "%matplotlib inline\n",
    "plt.rcParams['figure.figsize'] = (15.0, 8.0) # set default size of plots\n",
    "plt.rcParams['image.interpolation'] = 'nearest'\n",
    "plt.rcParams['image.cmap'] = 'gray'\n",
    "\n",
    "%load_ext autoreload\n",
    "%autoreload 2"
   ]
  },
  {
   "cell_type": "code",
   "execution_count": 67,
   "metadata": {},
   "outputs": [
    {
     "name": "stdout",
     "output_type": "stream",
     "text": [
      "Feature dict loaded.\n",
      "\n"
     ]
    }
   ],
   "source": [
    "# Load data.\n",
    "path = 'dataset_new'\n",
    "feature_dict = load_features(path, dont_show=True)\n",
    "#show_feature_details(feature_dict)"
   ]
  },
  {
   "cell_type": "code",
   "execution_count": 68,
   "metadata": {
    "scrolled": false
   },
   "outputs": [
    {
     "data": {
      "application/vnd.jupyter.widget-view+json": {
       "model_id": "4e4131a7794c4ea7a2a8cadde4f49043",
       "version_major": 2,
       "version_minor": 0
      },
      "text/html": [
       "<p>Failed to display Jupyter Widget of type <code>HBox</code>.</p>\n",
       "<p>\n",
       "  If you're reading this message in the Jupyter Notebook or JupyterLab Notebook, it may mean\n",
       "  that the widgets JavaScript is still loading. If this message persists, it\n",
       "  likely means that the widgets JavaScript library is either not installed or\n",
       "  not enabled. See the <a href=\"https://ipywidgets.readthedocs.io/en/stable/user_install.html\">Jupyter\n",
       "  Widgets Documentation</a> for setup instructions.\n",
       "</p>\n",
       "<p>\n",
       "  If you're reading this message in another frontend (for example, a static\n",
       "  rendering on GitHub or <a href=\"https://nbviewer.jupyter.org/\">NBViewer</a>),\n",
       "  it may mean that your frontend doesn't currently support widgets.\n",
       "</p>\n"
      ],
      "text/plain": [
       "HBox(children=(VBox(children=(Checkbox(value=False, description='1_24h_urinary_microalbumin'), Checkbox(value=False, description='2_24h_urine_protein'), Checkbox(value=False, description='3_25oh_vd'), Checkbox(value=False, description='4_25oh_vd3'), Checkbox(value=False, description='5_2h_fasting_glucose'), Checkbox(value=False, description='6_8_blood_cortisol'), Checkbox(value=True, description='7_age'), Checkbox(value=False, description='8_alt'), Checkbox(value=False, description='9_ast'), Checkbox(value=False, description='10_blood_protein'), Checkbox(value=False, description='11_blood_urea_nitrogen'), Checkbox(value=False, description='12_blood_uric_acid'), Checkbox(value=False, description='13_c_peptide'), Checkbox(value=False, description='14_c_reactive_protein'), Checkbox(value=True, description='15_calf'))), VBox(children=(Checkbox(value=False, description='16_creatine_kinase'), Checkbox(value=False, description='17_creatinine'), Checkbox(value=False, description='18_cystatin_c'), Checkbox(value=False, description='19_fasting_glucose'), Checkbox(value=False, description='20_fasting_insulin'), Checkbox(value=False, description='21_ft3'), Checkbox(value=True, description='22_ft4'), Checkbox(value=True, description='23_gender'), Checkbox(value=False, description='24_glycated_hemoglobin'), Checkbox(value=True, description='25_grip_strength'), Checkbox(value=False, description='26_hbg'), Checkbox(value=False, description='27_hdlc'), Checkbox(value=False, description='28_height'), Checkbox(value=True, description='29_movement_hours'), Checkbox(value=False, description='30_plt'))), VBox(children=(Checkbox(value=False, description='31_pth'), Checkbox(value=False, description='32_rbc'), Checkbox(value=False, description='33_sleep_time'), Checkbox(value=False, description='34_total_cholesterol'), Checkbox(value=True, description='35_triglyceride'), Checkbox(value=False, description='36_tsh'), Checkbox(value=False, description='37_wbc'), Checkbox(value=False, description='38_weight'), Checkbox(value=False, description='39_h2'), Checkbox(value=False, description='40_6m_speed'), Checkbox(value=True, description='41_bmi'), Checkbox(value=False, description='42_history_of_fall'), Checkbox(value=False, description='43_history_of_cerebrovascular_disease'), Checkbox(value=False, description='44_course_of_diabetes'), Checkbox(value=False, description='45_exogenous_insulin'))), VBox(children=(Checkbox(value=False, description='46_oral_antidiabetic_drug'), Checkbox(value=False, description='47_hypertension_duration'), Checkbox(value=False, description='48_history_of_coronary_heart_disease'), Checkbox(value=False, description='49_ldlc'), Checkbox(value=False, description='50_smoking_history'), Checkbox(value=False, description='51_has_hypertension'), Checkbox(value=False, description='52_do_exercise'), Checkbox(value=False, description='53_sulfonylureas'), Checkbox(value=False, description='54_non_sulfonylureas'), Checkbox(value=True, description='55_biguanides'), Checkbox(value=False, description='56_glycosidase_inhibitor'), Checkbox(value=False, description='57_chinese_medicine'), Checkbox(value=False, description='58_thiazolidinediones'), Checkbox(value=False, description='59_glp1ddp4'), Checkbox(value=False, description='60_job_worker'))), VBox(children=(Checkbox(value=False, description='61_noon_nap'), Checkbox(value=False, description='62_snore'), Checkbox(value=False, description='63_chewing_ability'), Checkbox(value=False, description='64_fundal_photograph'), Checkbox(value=False, description='65_dpn'), Checkbox(value=False, description='66_lower_limb_doppler'), Checkbox(value=False, description='997_blood_Ca')))))"
      ]
     },
     "metadata": {},
     "output_type": "display_data"
    }
   ],
   "source": [
    "# Select some features.\n",
    "use_all = False\n",
    "#use_all = True\n",
    "\n",
    "group_1 = [7, 23, 41]\n",
    "group_2 = [7, 23, 41, 29, 55, 22]\n",
    "group_3 = [7, 23, 41, 29, 55, 22, 25, 15, 35]\n",
    "\n",
    "include_feature_groups = []\n",
    "include_feature_index = group_3\n",
    "exclude_feature_index = []\n",
    "\n",
    "if use_all:\n",
    "    include_feature_index = np.arange(1, len(feature_dict), 1)\n",
    "\n",
    "feature_pre_selected = pre_select_feature(include_feature_groups, include_feature_index, exclude_feature_index, dont_show=True)\n",
    "precheck_boxes = generate_precheck_boxes(feature_pre_selected, feature_dict, dont_show=True)\n",
    "\n",
    "hbox = gen_checkbox(precheck_boxes, feature_dict)\n",
    "HBox(hbox)"
   ]
  },
  {
   "cell_type": "code",
   "execution_count": 69,
   "metadata": {
    "scrolled": true
   },
   "outputs": [
    {
     "name": "stdout",
     "output_type": "stream",
     "text": [
      "Checked features:\n",
      "  [7, 15, 22, 23, 25, 29, 35, 41, 55]\n",
      "Loading (9) features, done.\n"
     ]
    }
   ],
   "source": [
    "# Turn on / off log.\n",
    "\n",
    "#use_log = False\n",
    "use_log = False\n",
    "\n",
    "# Load data.\n",
    "checked_features = review_checkbox(hbox, dont_show=False, log=use_log)\n",
    "X = load_using_features(feature_dict, checked_features, dont_show=True)\n",
    "asm, asm_h2, sarcopenia, gender, height_squared, patient_id = load_asm(), load_asm_over_h2(), load_sarcopenia(), load_gender(), load_height_squared(), load_index()\n",
    "\n",
    "# Random shuffle. Comment this line if you want to keep the shuffling order.\n",
    "shuffle_index = np.random.permutation(X.shape[0])\n",
    "\n",
    "X = X[shuffle_index]; asm = asm[shuffle_index]; asm_h2 = asm_h2[shuffle_index];sarcopenia = sarcopenia[shuffle_index];\n",
    "gender = gender[shuffle_index]; height_squared = height_squared[shuffle_index]; patient_id = patient_id[shuffle_index]\n",
    "\n",
    "# k-fold Splitting\n",
    "n_fold = 5\n",
    "items_per_fold = int(X.shape[0] / n_fold)\n",
    "train_fold_mask = []\n",
    "val_fold_mask = []\n",
    "mask_cv = np.arange(0, 132)\n",
    "masks = []\n",
    "for i in np.arange(0, n_fold):\n",
    "    masks.append(np.split(mask_cv, [i * items_per_fold, (i+1) * items_per_fold]))\n",
    "    \n",
    "for i in np.arange(0, n_fold): \n",
    "    train_fold_mask.append(np.concatenate([masks[i][0], masks[i][2]]))\n",
    "    val_fold_mask.append(masks[i][1])\n",
    "    #print(val_fold_mask[i])\n",
    "    #print(train_fold_mask[i])"
   ]
  },
  {
   "cell_type": "markdown",
   "metadata": {},
   "source": [
    "## k-fold test for RF"
   ]
  },
  {
   "cell_type": "markdown",
   "metadata": {},
   "source": [
    "## Method I: Random Forest Classifier on Sarcopenia(k-fold)"
   ]
  },
  {
   "cell_type": "code",
   "execution_count": 74,
   "metadata": {},
   "outputs": [
    {
     "name": "stdout",
     "output_type": "stream",
     "text": [
      "------------------------ Fold 1 --------------------------\n",
      "\n",
      "Evaluating Validation set:\n",
      "Positive: 11, Negative: 15\n",
      "TP: 2, FP: 0, TN: 15, FN: 9\n",
      "Correct: 17(26), Precision: 1.000, Recall: 0.182, Specificity: 1.000, F1-Score: 0.308\n",
      "\n",
      "------------------------ Fold 2 --------------------------\n",
      "\n",
      "Evaluating Validation set:\n",
      "Positive: 5, Negative: 21\n",
      "TP: 2, FP: 1, TN: 20, FN: 3\n",
      "Correct: 22(26), Precision: 0.667, Recall: 0.400, Specificity: 0.952, F1-Score: 0.500\n",
      "\n",
      "------------------------ Fold 3 --------------------------\n",
      "\n",
      "Evaluating Validation set:\n",
      "Positive: 4, Negative: 22\n",
      "TP: 2, FP: 2, TN: 20, FN: 2\n",
      "Correct: 22(26), Precision: 0.500, Recall: 0.500, Specificity: 0.909, F1-Score: 0.500\n",
      "\n",
      "------------------------ Fold 4 --------------------------\n",
      "\n",
      "Evaluating Validation set:\n",
      "Positive: 9, Negative: 17\n",
      "TP: 7, FP: 3, TN: 14, FN: 2\n",
      "Correct: 21(26), Precision: 0.700, Recall: 0.778, Specificity: 0.824, F1-Score: 0.737\n",
      "\n",
      "------------------------ Fold 5 --------------------------\n",
      "\n",
      "Evaluating Validation set:\n",
      "Positive: 8, Negative: 18\n",
      "TP: 5, FP: 2, TN: 16, FN: 3\n",
      "Correct: 21(26), Precision: 0.714, Recall: 0.625, Specificity: 0.889, F1-Score: 0.667\n",
      "\n",
      "------------------------ Overall Statistics --------------------------\n",
      "ppv: 0.716 +/- 0.180, \n",
      "npv: 0.824 +/- 0.114, \n",
      "sensitivity: 0.497 +/- 0.226, \n",
      "specificity: 0.915 +/- 0.067\n",
      "\n"
     ]
    },
    {
     "data": {
      "image/png": "[encoded data removed]",
      "text/plain": [
       "<matplotlib.figure.Figure at 0x7fdf98593f98>"
      ]
     },
     "metadata": {},
     "output_type": "display_data"
    }
   ],
   "source": [
    "# Train RFC.\n",
    "\n",
    "ppvs, npvs, sensitivitys, specificitys = [], [], [], []\n",
    "\n",
    "tprs = []\n",
    "aucs = []\n",
    "mean_fpr = np.linspace(0, 1, 100)\n",
    "\n",
    "for i in np.arange(0, n_fold): \n",
    "    print(\"------------------------ Fold %d --------------------------\" %(i+1)) \n",
    "\n",
    "    X_train, X_test = X[train_fold_mask[i]], X[val_fold_mask[i]]\n",
    "    \n",
    "    asm_train, asm_test = asm[train_fold_mask[i]], asm[val_fold_mask[i]] \n",
    "    asm_h2_train, asm_h2_test = asm_h2[train_fold_mask[i]], asm_h2[val_fold_mask[i]]\n",
    "    sarcopenia_train, sarcopenia_test = sarcopenia[train_fold_mask[i]], sarcopenia[val_fold_mask[i]]\n",
    "    gender_train, gender_test = gender[train_fold_mask[i]], gender[val_fold_mask[i]]\n",
    "    height_squared_train, height_squared_test = height_squared[train_fold_mask[i]], height_squared[val_fold_mask[i]]\n",
    "    patient_id_train, patient_id_test = patient_id[train_fold_mask[i]], patient_id[val_fold_mask[i]]\n",
    "    \n",
    "    clf_RFC = RandomForestClassifier(n_estimators=100, max_depth=5, random_state=0)\n",
    "    clf_RFC.fit(X_train, sarcopenia_train)\n",
    "    #print(clf_RFC.feature_importances_)\n",
    "\n",
    "    # Observe Model.\n",
    "    #observe_prediction_SVC(clf_RFC, X_train, sarcopenia_train, patient_id_train, dont_show=False, log=use_log, setname='Training')\n",
    "    #result_train_RFC = clf_RFC.predict(X_train)\n",
    "    #eval_classifier(result_train_RFC, sarcopenia_train, show_detail=True, log=use_log, setname='Training')\n",
    "\n",
    "    #observe_prediction_SVC(clf_RFC, X_test, sarcopenia_test, patient_id_test, dont_show=False, log=use_log, setname='Validation')\n",
    "    result_test_RFC = clf_RFC.predict(X_test)\n",
    "    eval_classifier(result_test_RFC, sarcopenia_test, show_detail=True, log=use_log, setname='Validation')\n",
    "\n",
    "    ppv, npv, sensitivity, specificity = eval_classifier_k_fold(result_test_RFC, sarcopenia_test)\n",
    "    ppvs.append(ppv); npvs.append(npv); sensitivitys.append(sensitivity); specificitys.append(specificity);\n",
    "    \n",
    "    # Plot ROC Curve\n",
    "    probs = clf_RFC.predict_proba(X_test)\n",
    "    probs = probs[:, 1]\n",
    "    fpr, tpr, thresholds = roc_curve(sarcopenia_test, probs)\n",
    "    tprs.append(interp(mean_fpr, fpr, tpr))\n",
    "    tprs[-1][0] = 0.0\n",
    "    roc_auc = auc(fpr, tpr)\n",
    "    aucs.append(roc_auc)\n",
    "    plt.plot(fpr, tpr, lw=1, alpha=0.6, marker='.',\n",
    "             label='ROC fold %d (AUC = %0.2f)' % (i+1, roc_auc))\n",
    "\n",
    "print(\"------------------------ Overall Statistics --------------------------\") \n",
    "print(\"ppv: %.3f +/- %.3f, \\nnpv: %.3f +/- %.3f, \\nsensitivity: %.3f +/- %.3f, \\nspecificity: %.3f +/- %.3f\\n\" % \n",
    "      (np.mean(ppvs), np.std(ppvs, ddof=1), np.mean(npvs), np.std(npvs, ddof=1), np.mean(sensitivitys), np.std(sensitivitys, ddof=1), np.mean(specificitys), np.std(specificitys, ddof=1)))\n",
    "\n",
    "# Plot ROC Curve\n",
    "\n",
    "plt.plot([0, 1], [0, 1], linestyle='--', lw=2, color='r',\n",
    "         label='Chance', alpha=.8)\n",
    "\n",
    "\n",
    "mean_tpr = np.mean(tprs, axis=0)\n",
    "mean_tpr[-1] = 1.0\n",
    "mean_auc = auc(mean_fpr, mean_tpr)\n",
    "std_auc = np.std(aucs, ddof=1)\n",
    "plt.plot(mean_fpr, mean_tpr, color='b',\n",
    "         label=r'Mean ROC (AUC = %0.2f $\\pm$ %0.2f)' % (mean_auc, std_auc),\n",
    "         lw=2, alpha=.8)\n",
    "\n",
    "std_tpr = np.std(tprs, axis=0, ddof=1)\n",
    "tprs_upper = np.minimum(mean_tpr + std_tpr, 1)\n",
    "tprs_lower = np.maximum(mean_tpr - std_tpr, 0)\n",
    "plt.fill_between(mean_fpr, tprs_lower, tprs_upper, color='grey', alpha=.2,\n",
    "                 label=r'$\\pm$ 1 std. dev.')\n",
    "\n",
    "plt.xlim([-0.05, 1.05])\n",
    "plt.ylim([-0.05, 1.05])\n",
    "plt.xlabel('False Positive Rate')\n",
    "plt.ylabel('True Positive Rate')\n",
    "plt.title('%d Features Random Forest Receiver Operating Characteristic' % (len(include_feature_index)))\n",
    "plt.legend(loc=\"lower right\")\n",
    "plt.show()\n",
    "\n"
   ]
  },
  {
   "cell_type": "markdown",
   "metadata": {},
   "source": [
    "## Method II: Random Forest Regressor on asm/h2 (k-fold)"
   ]
  },
  {
   "cell_type": "code",
   "execution_count": 65,
   "metadata": {},
   "outputs": [
    {
     "name": "stdout",
     "output_type": "stream",
     "text": [
      "------------------------ Fold 1 --------------------------\n",
      "\n",
      "Evaluating Validation set:\n",
      "Positive: 7, Negative: 19\n",
      "TP: 5, FP: 3, TN: 16, FN: 2\n",
      "Correct: 21(26), Precision: 0.625, Recall: 0.714, Specificity: 0.842, F1-Score: 0.667\n",
      "\n",
      "------------------------ Fold 2 --------------------------\n",
      "\n",
      "Evaluating Validation set:\n",
      "Positive: 8, Negative: 18\n",
      "TP: 3, FP: 3, TN: 15, FN: 5\n",
      "Correct: 18(26), Precision: 0.500, Recall: 0.375, Specificity: 0.833, F1-Score: 0.429\n",
      "\n",
      "------------------------ Fold 3 --------------------------\n",
      "\n",
      "Evaluating Validation set:\n",
      "Positive: 7, Negative: 19\n",
      "TP: 4, FP: 0, TN: 19, FN: 3\n",
      "Correct: 23(26), Precision: 1.000, Recall: 0.571, Specificity: 1.000, F1-Score: 0.727\n",
      "\n",
      "------------------------ Fold 4 --------------------------\n",
      "\n",
      "Evaluating Validation set:\n",
      "Positive: 9, Negative: 17\n",
      "TP: 4, FP: 0, TN: 17, FN: 5\n",
      "Correct: 21(26), Precision: 1.000, Recall: 0.444, Specificity: 1.000, F1-Score: 0.615\n",
      "\n",
      "------------------------ Fold 5 --------------------------\n",
      "\n",
      "Evaluating Validation set:\n",
      "Positive: 6, Negative: 20\n",
      "TP: 2, FP: 1, TN: 19, FN: 4\n",
      "Correct: 21(26), Precision: 0.667, Recall: 0.333, Specificity: 0.950, F1-Score: 0.444\n",
      "\n",
      "------------------------ Overall Statistics --------------------------\n",
      "ppv: 0.758 +/- 0.229, \n",
      "npv: 0.820 +/- 0.059, \n",
      "sensitivity: 0.488 +/- 0.156, \n",
      "specificity: 0.925 +/- 0.082\n",
      "\n"
     ]
    }
   ],
   "source": [
    "# Train RFR on asm/h2.\n",
    "\n",
    "ppvs, npvs, sensitivitys, specificitys = [], [], [], []\n",
    "for i in np.arange(0, n_fold): \n",
    "    print(\"------------------------ Fold %d --------------------------\" %(i+1)) \n",
    "\n",
    "    X_train, X_test = X[train_fold_mask[i]], X[val_fold_mask[i]]\n",
    "    \n",
    "    asm_train, asm_test = asm[train_fold_mask[i]], asm[val_fold_mask[i]] \n",
    "    asm_h2_train, asm_h2_test = asm_h2[train_fold_mask[i]], asm_h2[val_fold_mask[i]]\n",
    "    sarcopenia_train, sarcopenia_test = sarcopenia[train_fold_mask[i]], sarcopenia[val_fold_mask[i]]\n",
    "    gender_train, gender_test = gender[train_fold_mask[i]], gender[val_fold_mask[i]]\n",
    "    height_squared_train, height_squared_test = height_squared[train_fold_mask[i]], height_squared[val_fold_mask[i]]\n",
    "    patient_id_train, patient_id_test = patient_id[train_fold_mask[i]], patient_id[val_fold_mask[i]]\n",
    "\n",
    "    clf_RFR_asmh2 = RandomForestRegressor(n_estimators=100, max_depth=5, random_state=0)\n",
    "    clf_RFR_asmh2.fit(X_train, asm_h2_train)\n",
    "    #print(clf_RFR_asmh2.feature_importances_)\n",
    "\n",
    "    # Training Set:\n",
    "    #observe_prediction_asm_h2_SVR(clf_RFR_asmh2, X_train, asm_h2_train, gender_train, sarcopenia_train, patient_id_train, dont_show=False, log=use_log, setname='Training')\n",
    "    #result_train_asm_h2_RFR = eval_sarcopenia_asm_h2(clf_RFR_asmh2, X_train, gender_train, sarcopenia_train)\n",
    "    #eval_classifier(result_train_asm_h2_RFR, sarcopenia_train, show_detail=True, log=use_log, setname='Training')\n",
    "\n",
    "    # Test Set:\n",
    "    #observe_prediction_asm_h2_SVR(clf_RFR_asmh2, X_test, asm_h2_test, gender_test, sarcopenia_test, patient_id_test, dont_show=False, log=use_log, setname='Validation')\n",
    "    result_test_asm_h2_RFR = eval_sarcopenia_asm_h2(clf_RFR_asmh2, X_test, gender_test, sarcopenia_test)\n",
    "    eval_classifier(result_test_asm_h2_RFR, sarcopenia_test, show_detail=True, log=use_log, setname='Validation')\n",
    "\n",
    "    ppv, npv, sensitivity, specificity = eval_classifier_k_fold(result_test_asm_h2_RFR, sarcopenia_test)\n",
    "    ppvs.append(ppv); npvs.append(npv); sensitivitys.append(sensitivity); specificitys.append(specificity);\n",
    "    \n",
    "\n",
    "print(\"------------------------ Overall Statistics --------------------------\") \n",
    "print(\"ppv: %.3f +/- %.3f, \\nnpv: %.3f +/- %.3f, \\nsensitivity: %.3f +/- %.3f, \\nspecificity: %.3f +/- %.3f\\n\" % \n",
    "      (np.mean(ppvs), np.std(ppvs, ddof=1), np.mean(npvs), np.std(npvs, ddof=1), np.mean(sensitivitys), np.std(sensitivitys, ddof=1), np.mean(specificitys), np.std(specificitys, ddof=1)))\n",
    "\n"
   ]
  },
  {
   "cell_type": "markdown",
   "metadata": {},
   "source": [
    "## Method III: Random Forest Regressor on asm (k-fold)"
   ]
  },
  {
   "cell_type": "code",
   "execution_count": 39,
   "metadata": {
    "scrolled": false
   },
   "outputs": [
    {
     "name": "stdout",
     "output_type": "stream",
     "text": [
      "\n",
      "Evaluating Validation set:\n",
      "Positive: 3, Negative: 23\n",
      "TP: 3, FP: 3, TN: 20, FN: 0\n",
      "Correct: 23(26), Precision: 0.500, Recall: 1.000, Specificity: 0.870, F1-Score: 0.667\n",
      "\n",
      "\n",
      "Evaluating Validation set:\n",
      "Positive: 8, Negative: 18\n",
      "TP: 1, FP: 1, TN: 17, FN: 7\n",
      "Correct: 18(26), Precision: 0.500, Recall: 0.125, Specificity: 0.944, F1-Score: 0.200\n",
      "\n",
      "\n",
      "Evaluating Validation set:\n",
      "Positive: 5, Negative: 21\n",
      "TP: 2, FP: 3, TN: 18, FN: 3\n",
      "Correct: 20(26), Precision: 0.400, Recall: 0.400, Specificity: 0.857, F1-Score: 0.400\n",
      "\n",
      "\n",
      "Evaluating Validation set:\n",
      "Positive: 10, Negative: 16\n",
      "TP: 5, FP: 4, TN: 12, FN: 5\n",
      "Correct: 17(26), Precision: 0.556, Recall: 0.500, Specificity: 0.750, F1-Score: 0.526\n",
      "\n",
      "\n",
      "Evaluating Validation set:\n",
      "Positive: 11, Negative: 15\n",
      "TP: 4, FP: 3, TN: 12, FN: 7\n",
      "Correct: 16(26), Precision: 0.571, Recall: 0.364, Specificity: 0.800, F1-Score: 0.444\n",
      "\n",
      "------------------------ Overall Statistics --------------------------\n",
      "ppv: 0.505 +/- 0.07, \n",
      "npv: 0.781 +/- 0.15, \n",
      "sensitivity: 0.478 +/- 0.32, \n",
      "specificity: 0.844 +/- 0.07\n",
      "\n"
     ]
    }
   ],
   "source": [
    "# Train RFR on asm.\n",
    "ppvs, npvs, sensitivitys, specificitys = [], [], [], []\n",
    "for i in np.arange(0, n_fold): \n",
    "    print(\"------------------------ Fold %d --------------------------\" %(i+1)) \n",
    "\n",
    "    X_train, X_test = X[train_fold_mask[i]], X[val_fold_mask[i]]\n",
    "    \n",
    "    asm_train, asm_test = asm[train_fold_mask[i]], asm[val_fold_mask[i]] \n",
    "    asm_h2_train, asm_h2_test = asm_h2[train_fold_mask[i]], asm_h2[val_fold_mask[i]]\n",
    "    sarcopenia_train, sarcopenia_test = sarcopenia[train_fold_mask[i]], sarcopenia[val_fold_mask[i]]\n",
    "    gender_train, gender_test = gender[train_fold_mask[i]], gender[val_fold_mask[i]]\n",
    "    height_squared_train, height_squared_test = height_squared[train_fold_mask[i]], height_squared[val_fold_mask[i]]\n",
    "    patient_id_train, patient_id_test = patient_id[train_fold_mask[i]], patient_id[val_fold_mask[i]]\n",
    "     \n",
    "    clf_RFR = RandomForestRegressor(n_estimators=200, max_depth=None, random_state=0)\n",
    "    clf_RFR.fit(X_train, asm_train)\n",
    "    #print(clf_RFR.feature_importances_)\n",
    "\n",
    "    # Training Set.\n",
    "    #observe_prediction_asm_SVR(clf_RFR, X_train, asm_train, gender_train, height_squared_train, sarcopenia_train, patient_id_train, dont_show=False, log=use_log, setname='Training')\n",
    "    #result_train_asm_RFR = eval_sarcopenia_asm(clf_RFR, X_train, gender_train, height_squared_train, sarcopenia_train)\n",
    "    #eval_classifier(result_train_asm_RFR, sarcopenia_train, show_detail=True, log=use_log, setname='Training')\n",
    "\n",
    "    # Test Set.\n",
    "    #observe_prediction_asm_SVR(clf_RFR, X_test, asm_test, gender_test, height_squared_test, sarcopenia_test, patient_id_test, dont_show=False, log=use_log, setname='Validation')\n",
    "    result_test_asm_RFR = eval_sarcopenia_asm(clf_RFR, X_test, gender_test, height_squared_test, sarcopenia_test)\n",
    "    eval_classifier(result_test_asm_RFR, sarcopenia_test, show_detail=True, log=use_log, setname='Validation')\n",
    "    \n",
    "    ppv, npv, sensitivity, specificity = eval_classifier_k_fold(result_test_asm_RFR, sarcopenia_test)\n",
    "    ppvs.append(ppv); npvs.append(npv); sensitivitys.append(sensitivity); specificitys.append(specificity);\n",
    "    \n",
    "\n",
    "print(\"------------------------ Overall Statistics --------------------------\") \n",
    "print(\"ppv: %.3f +/- %.2f, \\nnpv: %.3f +/- %.2f, \\nsensitivity: %.3f +/- %.2f, \\nspecificity: %.3f +/- %.2f\\n\" % \n",
    "      (np.mean(ppvs), np.std(ppvs, ddof=1), np.mean(npvs), np.std(npvs, ddof=1), np.mean(sensitivitys), np.std(sensitivitys, ddof=1), np.mean(specificitys), np.std(specificitys, ddof=1)))\n",
    "\n",
    "    \n",
    "    "
   ]
  },
  {
   "cell_type": "markdown",
   "metadata": {},
   "source": [
    "## Measurement Index\n",
    "$$Precision = \\frac{True\\ Positive}{True\\ Positve + False\\ Positive}$$\n",
    "$$Recall = \\frac{True\\ Positive}{True\\ Positive + False\\ Negative}$$\n",
    "$$F1\\_Score = \\frac{2 \\times Precision \\times Recall}{Precision + Recall}$$\n",
    "\n",
    "$$PPV = \\frac{True\\ Positive}{True\\ Positve + False\\ Positive}$$\n",
    "$$NPV = \\frac{True\\ Negative}{True\\ Negative + False\\ Negative}$$\n",
    "$$Sensitivity = \\frac{True\\ Positive}{True\\ Positive + False\\ Negative}$$\n",
    "$$Specificity = \\frac{True\\ Negative}{True\\ Negative + False\\ Positive}$$\n",
    "\n",
    "\n",
    "|       |          | Actual   | Class  |\n",
    "| :---  | ---      | ---      |    --- |\n",
    "|       |          | Positive |Negative|\n",
    "|Predict|Positive  | TP       | FP     |\n",
    "| Class |Negative  | FN       | TN     |\n"
   ]
  },
  {
   "cell_type": "code",
   "execution_count": null,
   "metadata": {},
   "outputs": [],
   "source": []
  }
 ],
 "metadata": {
  "kernelspec": {
   "display_name": "Python 3",
   "language": "python",
   "name": "python3"
  },
  "language_info": {
   "codemirror_mode": {
    "name": "ipython",
    "version": 3
   },
   "file_extension": ".py",
   "mimetype": "text/x-python",
   "name": "python",
   "nbconvert_exporter": "python",
   "pygments_lexer": "ipython3",
   "version": "3.6.4"
  }
 },
 "nbformat": 4,
 "nbformat_minor": 2
}
