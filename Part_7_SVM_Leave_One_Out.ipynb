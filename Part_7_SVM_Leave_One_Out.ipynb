{
 "cells": [
  {
   "cell_type": "markdown",
   "metadata": {},
   "source": [
    "# Part 7: Leave One Out Validation with SVM"
   ]
  },
  {
   "cell_type": "code",
   "execution_count": 8,
   "metadata": {},
   "outputs": [
    {
     "data": {
      "application/javascript": [
       "IPython.OutputArea.prototype._should_scroll = function(lines) {\n",
       "    return false;\n",
       "}"
      ],
      "text/plain": [
       "<IPython.core.display.Javascript object>"
      ]
     },
     "metadata": {},
     "output_type": "display_data"
    }
   ],
   "source": [
    "%%javascript\n",
    "IPython.OutputArea.prototype._should_scroll = function(lines) {\n",
    "    return false;\n",
    "}"
   ]
  },
  {
   "cell_type": "code",
   "execution_count": 9,
   "metadata": {
    "scrolled": true
   },
   "outputs": [
    {
     "name": "stdout",
     "output_type": "stream",
     "text": [
      "The autoreload extension is already loaded. To reload it, use:\n",
      "  %reload_ext autoreload\n"
     ]
    }
   ],
   "source": [
    "# Run some setup code for this notebook.\n",
    "import glob\n",
    "import matplotlib.pyplot as plt\n",
    "import numpy as np\n",
    "import os\n",
    "import ipywidgets as widgets\n",
    "\n",
    "from ipywidgets import VBox, HBox, Layout\n",
    "from sklearn import svm\n",
    "from sklearn import neighbors\n",
    "from sklearn import preprocessing\n",
    "from sklearn.utils import shuffle\n",
    "from sklearn.model_selection import cross_val_score\n",
    "\n",
    "\n",
    "from utils.checkbox import *\n",
    "from utils.data_utils import *\n",
    "#from utils.data_processing import *\n",
    "from utils.svm_modeling import *\n",
    "from utils.model_eval import *\n",
    "from __future__ import print_function\n",
    "\n",
    "# This is a bit of magic to make matplotlib figures appear inline in the\n",
    "# notebook rather than in a new window.\n",
    "%matplotlib inline\n",
    "plt.rcParams['figure.figsize'] = (15.0, 8.0) # set default size of plots\n",
    "plt.rcParams['image.interpolation'] = 'nearest'\n",
    "plt.rcParams['image.cmap'] = 'gray'\n",
    "\n",
    "%load_ext autoreload\n",
    "%autoreload 2"
   ]
  },
  {
   "cell_type": "code",
   "execution_count": 10,
   "metadata": {},
   "outputs": [
    {
     "name": "stdout",
     "output_type": "stream",
     "text": [
      "Feature dict loaded.\n",
      "\n"
     ]
    }
   ],
   "source": [
    "# Load data.\n",
    "path = 'dataset_new'\n",
    "feature_dict = load_features(path, dont_show=True)\n",
    "#show_feature_details(feature_dict)"
   ]
  },
  {
   "cell_type": "code",
   "execution_count": 19,
   "metadata": {
    "scrolled": false
   },
   "outputs": [
    {
     "data": {
      "application/vnd.jupyter.widget-view+json": {
       "model_id": "ca84bcb20c6b402b918acc9d6cefd588",
       "version_major": 2,
       "version_minor": 0
      },
      "text/html": [
       "<p>Failed to display Jupyter Widget of type <code>HBox</code>.</p>\n",
       "<p>\n",
       "  If you're reading this message in the Jupyter Notebook or JupyterLab Notebook, it may mean\n",
       "  that the widgets JavaScript is still loading. If this message persists, it\n",
       "  likely means that the widgets JavaScript library is either not installed or\n",
       "  not enabled. See the <a href=\"https://ipywidgets.readthedocs.io/en/stable/user_install.html\">Jupyter\n",
       "  Widgets Documentation</a> for setup instructions.\n",
       "</p>\n",
       "<p>\n",
       "  If you're reading this message in another frontend (for example, a static\n",
       "  rendering on GitHub or <a href=\"https://nbviewer.jupyter.org/\">NBViewer</a>),\n",
       "  it may mean that your frontend doesn't currently support widgets.\n",
       "</p>\n"
      ],
      "text/plain": [
       "HBox(children=(VBox(children=(Checkbox(value=False, description='1_24h_urinary_microalbumin'), Checkbox(value=False, description='2_24h_urine_protein'), Checkbox(value=False, description='3_25oh_vd'), Checkbox(value=False, description='4_25oh_vd3'), Checkbox(value=False, description='5_2h_fasting_glucose'), Checkbox(value=False, description='6_8_blood_cortisol'), Checkbox(value=True, description='7_age'), Checkbox(value=False, description='8_alt'), Checkbox(value=False, description='9_ast'), Checkbox(value=False, description='10_blood_protein'), Checkbox(value=False, description='11_blood_urea_nitrogen'), Checkbox(value=False, description='12_blood_uric_acid'), Checkbox(value=False, description='13_c_peptide'), Checkbox(value=False, description='14_c_reactive_protein'), Checkbox(value=True, description='15_calf'))), VBox(children=(Checkbox(value=False, description='16_creatine_kinase'), Checkbox(value=False, description='17_creatinine'), Checkbox(value=False, description='18_cystatin_c'), Checkbox(value=False, description='19_fasting_glucose'), Checkbox(value=False, description='20_fasting_insulin'), Checkbox(value=False, description='21_ft3'), Checkbox(value=True, description='22_ft4'), Checkbox(value=True, description='23_gender'), Checkbox(value=False, description='24_glycated_hemoglobin'), Checkbox(value=True, description='25_grip_strength'), Checkbox(value=False, description='26_hbg'), Checkbox(value=False, description='27_hdlc'), Checkbox(value=False, description='28_height'), Checkbox(value=True, description='29_movement_hours'), Checkbox(value=False, description='30_plt'))), VBox(children=(Checkbox(value=False, description='31_pth'), Checkbox(value=False, description='32_rbc'), Checkbox(value=False, description='33_sleep_time'), Checkbox(value=False, description='34_total_cholesterol'), Checkbox(value=True, description='35_triglyceride'), Checkbox(value=False, description='36_tsh'), Checkbox(value=False, description='37_wbc'), Checkbox(value=False, description='38_weight'), Checkbox(value=False, description='39_h2'), Checkbox(value=False, description='40_6m_speed'), Checkbox(value=True, description='41_bmi'), Checkbox(value=False, description='42_history_of_fall'), Checkbox(value=False, description='43_history_of_cerebrovascular_disease'), Checkbox(value=False, description='44_course_of_diabetes'), Checkbox(value=False, description='45_exogenous_insulin'))), VBox(children=(Checkbox(value=False, description='46_oral_antidiabetic_drug'), Checkbox(value=False, description='47_hypertension_duration'), Checkbox(value=False, description='48_history_of_coronary_heart_disease'), Checkbox(value=False, description='49_ldlc'), Checkbox(value=False, description='50_smoking_history'), Checkbox(value=False, description='51_has_hypertension'), Checkbox(value=False, description='52_do_exercise'), Checkbox(value=False, description='53_sulfonylureas'), Checkbox(value=False, description='54_non_sulfonylureas'), Checkbox(value=True, description='55_biguanides'), Checkbox(value=False, description='56_glycosidase_inhibitor'), Checkbox(value=False, description='57_chinese_medicine'), Checkbox(value=False, description='58_thiazolidinediones'), Checkbox(value=False, description='59_glp1ddp4'), Checkbox(value=False, description='60_job_worker'))), VBox(children=(Checkbox(value=False, description='61_noon_nap'), Checkbox(value=False, description='62_snore'), Checkbox(value=False, description='63_chewing_ability'), Checkbox(value=False, description='64_fundal_photograph'), Checkbox(value=False, description='65_dpn'), Checkbox(value=False, description='66_lower_limb_doppler'), Checkbox(value=False, description='997_blood_Ca')))))"
      ]
     },
     "metadata": {},
     "output_type": "display_data"
    }
   ],
   "source": [
    "# Select some features.\n",
    "use_all = False\n",
    "#use_all = True\n",
    "group_1 = [7, 23, 41]\n",
    "group_2 = [7, 23, 41, 29, 55, 22]\n",
    "group_3 = [7, 23, 41, 29, 55, 22, 25, 15, 35]\n",
    "include_feature_groups = []\n",
    "include_feature_index = group_3\n",
    "exclude_feature_index = []\n",
    "\n",
    "if use_all:\n",
    "    include_feature_index = np.arange(1, len(feature_dict), 1)\n",
    "\n",
    "feature_pre_selected = pre_select_feature(include_feature_groups, include_feature_index, exclude_feature_index, dont_show=True)\n",
    "precheck_boxes = generate_precheck_boxes(feature_pre_selected, feature_dict, dont_show=True)\n",
    "\n",
    "hbox = gen_checkbox(precheck_boxes, feature_dict)\n",
    "HBox(hbox)"
   ]
  },
  {
   "cell_type": "code",
   "execution_count": 20,
   "metadata": {
    "scrolled": false
   },
   "outputs": [
    {
     "name": "stdout",
     "output_type": "stream",
     "text": [
      "Checked features:\n",
      "  [7, 15, 22, 23, 25, 29, 35, 41, 55]\n",
      "Loading (9) features, done.\n"
     ]
    }
   ],
   "source": [
    "# Turn on / off log.\n",
    "\n",
    "#use_log = False\n",
    "use_log = False\n",
    "\n",
    "# Load data.\n",
    "checked_features = review_checkbox(hbox, dont_show=False, log=use_log)\n",
    "X = load_using_features(feature_dict, checked_features, dont_show=True)\n",
    "asm, asm_h2, sarcopenia, gender, height_squared, patient_id = load_asm(), load_asm_over_h2(), load_sarcopenia(), load_gender(), load_height_squared(), load_index()\n",
    "\n",
    "# Random shuffle. Comment this line if you want to keep the shuffling order.\n",
    "shuffle_index = np.random.permutation(X.shape[0])\n",
    "\n",
    "X = X[shuffle_index]; asm = asm[shuffle_index]; asm_h2 = asm_h2[shuffle_index]; sarcopenia = sarcopenia[shuffle_index];\n",
    "gender = gender[shuffle_index]; height_squared = height_squared[shuffle_index]; patient_id = patient_id[shuffle_index];\n",
    "\n",
    "# Data Rescaling.\n",
    "scaler = set_scaler()\n",
    "\n",
    "# k-fold Splitting\n",
    "n_fold = 132\n",
    "items_per_fold = int(X.shape[0] / n_fold)\n",
    "train_fold_mask = []\n",
    "val_fold_mask = []\n",
    "mask_cv = np.arange(0, 132)\n",
    "masks = []\n",
    "for i in np.arange(0, n_fold):\n",
    "    masks.append(np.split(mask_cv, [i * items_per_fold, (i+1) * items_per_fold]))\n",
    "    \n",
    "for i in np.arange(0, n_fold): \n",
    "    train_fold_mask.append(np.concatenate([masks[i][0], masks[i][2]]))\n",
    "    val_fold_mask.append(masks[i][1])\n",
    "    #print(val_fold_mask[i])\n",
    "    #print(train_fold_mask[i])"
   ]
  },
  {
   "cell_type": "markdown",
   "metadata": {},
   "source": [
    "## Leave one out test for SVM"
   ]
  },
  {
   "cell_type": "markdown",
   "metadata": {},
   "source": [
    "## Method I: SVM Classifier on Sarcopenia"
   ]
  },
  {
   "cell_type": "code",
   "execution_count": 24,
   "metadata": {
    "scrolled": true
   },
   "outputs": [
    {
     "name": "stdout",
     "output_type": "stream",
     "text": [
      "\n",
      "Evaluating Test set:\n",
      "Positive: 37, Negative: 95\n",
      "TP: 23, FP: 10, TN: 85, FN: 14\n",
      "Correct: 108(132), Precision: 0.697, Recall: 0.622, Specificity: 0.895, F1-Score: 0.657\n",
      "\n",
      "------------------------ Overall Statistics --------------------------\n",
      "ppv: 0.697, \n",
      "npv: 0.859, \n",
      "sensitivity: 0.622, \n",
      "specificity: 0.895\n",
      "\n"
     ]
    }
   ],
   "source": [
    "# Train SVC.\n",
    "kernel_options = {1: \"rbf\", 2: \"linear\"}\n",
    "kernel_SVC = 2\n",
    "\n",
    "result_test_SVC = np.zeros([X.shape[0]])\n",
    "\n",
    "for i in np.arange(0, n_fold): \n",
    "    \n",
    "    X_train, X_test = X[train_fold_mask[i]], X[val_fold_mask[i]]\n",
    "\n",
    "    X_train, X_test = scaler.fit_transform(X_train), scaler.transform(X_test)\n",
    "    asm_train, asm_test = asm[train_fold_mask[i]], asm[val_fold_mask[i]] \n",
    "    asm_h2_train, asm_h2_test = asm_h2[train_fold_mask[i]], asm_h2[val_fold_mask[i]]\n",
    "    sarcopenia_train, sarcopenia_test = sarcopenia[train_fold_mask[i]], sarcopenia[val_fold_mask[i]]\n",
    "    gender_train, gender_test = gender[train_fold_mask[i]], gender[val_fold_mask[i]]\n",
    "    height_squared_train, height_squared_test = height_squared[train_fold_mask[i]], height_squared[val_fold_mask[i]]\n",
    "    patient_id_train, patient_id_test = patient_id[train_fold_mask[i]], patient_id[val_fold_mask[i]]\n",
    "    #print(patient_id_train, patient_id_test)\n",
    "    \n",
    "    best_clf_SVC = run_SVC_k_fold(X_train, sarcopenia_train, kernel=kernel_options[kernel_SVC], log=use_log, dont_show=True)\n",
    "    \n",
    "    #observe_prediction_SVC(best_clf_SVC, X_train, sarcopenia_train, patient_id_train, dont_show=True, log=use_log, setname='Training')\n",
    "    #result_train_SVC = best_clf_SVC.predict(X_train)\n",
    "    #eval_classifier(result_train_SVC, sarcopenia_train, show_detail=False, log=use_log, setname='Training')\n",
    "\n",
    "    observe_prediction_SVC(best_clf_SVC, X_test, sarcopenia_test, patient_id_test, dont_show=True, log=use_log, setname='Test')\n",
    "    result_test_SVC[i] = best_clf_SVC.predict(X_test)\n",
    "    \n",
    "eval_classifier(result_test_SVC, sarcopenia, show_detail=True, log=use_log, setname='Test')\n",
    "ppvs, npvs, sensitivitys, specificitys = eval_classifier_k_fold(result_test_SVC, sarcopenia)\n",
    "\n",
    "    \n",
    "print(\"------------------------ Overall Statistics --------------------------\") \n",
    "print(\"ppv: %.3f, \\nnpv: %.3f, \\nsensitivity: %.3f, \\nspecificity: %.3f\\n\" % \n",
    "      (np.mean(ppvs), np.mean(npvs), np.mean(sensitivitys), np.mean(specificitys), ))\n"
   ]
  },
  {
   "cell_type": "markdown",
   "metadata": {},
   "source": [
    "## Method II: SVM Regressor on asm/h2"
   ]
  },
  {
   "cell_type": "code",
   "execution_count": 22,
   "metadata": {
    "scrolled": false
   },
   "outputs": [
    {
     "name": "stdout",
     "output_type": "stream",
     "text": [
      "\n",
      "Evaluating Test set:\n",
      "Positive: 37, Negative: 95\n",
      "TP: 21, FP: 6, TN: 89, FN: 16\n",
      "Correct: 110(132), Precision: 0.778, Recall: 0.568, Specificity: 0.937, F1-Score: 0.656\n",
      "\n",
      "------------------------ Overall Statistics --------------------------\n",
      "ppv: 0.778, \n",
      "npv: 0.848, \n",
      "sensitivity: 0.568, \n",
      "specificity: 0.937\n",
      "\n"
     ]
    }
   ],
   "source": [
    "# Train SVR on asm/h2.\n",
    "kernel_options = {1: \"rbf\", 2: \"linear\"}\n",
    "kernel_SVR = 2\n",
    "\n",
    "result_test_asm_h2_SVR = np.zeros([X.shape[0]])\n",
    "\n",
    "for i in np.arange(0, n_fold): \n",
    "    X_train, X_test = X[train_fold_mask[i]], X[val_fold_mask[i]]\n",
    "\n",
    "    X_train, X_test = scaler.fit_transform(X_train), scaler.transform(X_test)\n",
    "    asm_train, asm_test = asm[train_fold_mask[i]], asm[val_fold_mask[i]] \n",
    "    asm_h2_train, asm_h2_test = asm_h2[train_fold_mask[i]], asm_h2[val_fold_mask[i]]\n",
    "    sarcopenia_train, sarcopenia_test = sarcopenia[train_fold_mask[i]], sarcopenia[val_fold_mask[i]]\n",
    "    gender_train, gender_test = gender[train_fold_mask[i]], gender[val_fold_mask[i]]\n",
    "    height_squared_train, height_squared_test = height_squared[train_fold_mask[i]], height_squared[val_fold_mask[i]]\n",
    "    patient_id_train, patient_id_test = patient_id[train_fold_mask[i]], patient_id[val_fold_mask[i]]\n",
    "\n",
    "    \n",
    "    best_clf_asm_h2_SVR = run_SVR_k_fold(X_train, asm_h2_train, kernel=kernel_options[kernel_SVR], log=use_log, dont_show=True)\n",
    "    # Training Set:\n",
    "    observe_prediction_asm_h2_SVR(best_clf_asm_h2_SVR, X_train, asm_h2_train, gender_train, sarcopenia_train, patient_id_train, dont_show=True, log=use_log, setname='Training')\n",
    "    result_train_asm_h2_SVR = eval_sarcopenia_asm_h2(best_clf_asm_h2_SVR, X_train, gender_train, sarcopenia_train)\n",
    "    eval_classifier(result_train_asm_h2_SVR, sarcopenia_train, show_detail=False, log=use_log, setname='Training')\n",
    "\n",
    "    #Test Set:\n",
    "    observe_prediction_asm_h2_SVR(best_clf_asm_h2_SVR, X_test, asm_h2_test, gender_test, sarcopenia_test, patient_id_test, dont_show=True, log=use_log, setname='Test')\n",
    "    result_test_asm_h2_SVR[i] = eval_sarcopenia_asm_h2(best_clf_asm_h2_SVR, X_test, gender_test, sarcopenia_test)[0]\n",
    "\n",
    "eval_classifier(result_test_asm_h2_SVR, sarcopenia, show_detail=True, log=use_log, setname='Test')\n",
    "ppvs, npvs, sensitivitys, specificitys = eval_classifier_k_fold(result_test_asm_h2_SVR, sarcopenia)\n",
    "\n",
    "print(\"------------------------ Overall Statistics --------------------------\") \n",
    "print(\"ppv: %.3f, \\nnpv: %.3f, \\nsensitivity: %.3f, \\nspecificity: %.3f\\n\" % \n",
    "      (np.mean(ppvs), np.mean(npvs), np.mean(sensitivitys), np.mean(specificitys), ))\n",
    "\n"
   ]
  },
  {
   "cell_type": "markdown",
   "metadata": {},
   "source": [
    "## Method III: SVM Regressor on asm"
   ]
  },
  {
   "cell_type": "code",
   "execution_count": 12,
   "metadata": {
    "scrolled": true
   },
   "outputs": [
    {
     "name": "stdout",
     "output_type": "stream",
     "text": [
      "\n",
      "Evaluating Test set:\n",
      "Positive: 37, Negative: 95\n",
      "TP: 16, FP: 11, TN: 84, FN: 21\n",
      "Correct: 100(132), Precision: 0.593, Recall: 0.432, Specificity: 0.884, F1-Score: 0.500\n",
      "\n",
      "------------------------ Overall Statistics --------------------------\n",
      "ppv: 0.593, \n",
      "npv: 0.800, \n",
      "sensitivity: 0.432, \n",
      "specificity: 0.884\n",
      "\n"
     ]
    }
   ],
   "source": [
    "# Train SVR on asm.\n",
    "kernel_options = {1: \"rbf\", 2: \"linear\"}\n",
    "kernel_SVR = 2\n",
    "\n",
    "result_test_asm_SVR = np.zeros([X.shape[0]])\n",
    "\n",
    "for i in np.arange(0, n_fold): \n",
    "    X_train, X_test = X[train_fold_mask[i]], X[val_fold_mask[i]]\n",
    "    X_train, X_test = scaler.fit_transform(X_train), scaler.transform(X_test)\n",
    "    \n",
    "    asm_train, asm_test = asm[train_fold_mask[i]], asm[val_fold_mask[i]] \n",
    "    asm_h2_train, asm_h2_test = asm_h2[train_fold_mask[i]], asm_h2[val_fold_mask[i]]\n",
    "    sarcopenia_train, sarcopenia_test = sarcopenia[train_fold_mask[i]], sarcopenia[val_fold_mask[i]]\n",
    "    gender_train, gender_test = gender[train_fold_mask[i]], gender[val_fold_mask[i]]\n",
    "    height_squared_train, height_squared_test = height_squared[train_fold_mask[i]], height_squared[val_fold_mask[i]]\n",
    "    patient_id_train, patient_id_test = patient_id[train_fold_mask[i]], patient_id[val_fold_mask[i]]\n",
    "        \n",
    "    # Train Regressor\n",
    "    best_clf_asm_SVR = run_SVR_k_fold(X_train, asm_train, kernel=kernel_options[kernel_SVR], log=use_log, dont_show=True)\n",
    "    \n",
    "    # Training Set:\n",
    "    observe_prediction_asm_SVR(best_clf_asm_SVR, X_train, asm_train, gender_train, height_squared_train, sarcopenia_train, patient_id_train, dont_show=True, log=use_log, setname='Training')\n",
    "    result_train_asm_SVR = eval_sarcopenia_asm(best_clf_asm_SVR, X_train, gender_train, height_squared_train, sarcopenia_train)\n",
    "    eval_classifier(result_train_asm_SVR, sarcopenia_train, show_detail=False, log=use_log, setname='Training')\n",
    "    # Test Set:\n",
    "    observe_prediction_asm_SVR(best_clf_asm_SVR, X_test, asm_test, gender_test, height_squared_test, sarcopenia_test, patient_id_test, dont_show=True, log=use_log, setname='Test')\n",
    "    result_test_asm_SVR[i] = eval_sarcopenia_asm(best_clf_asm_SVR, X_test, gender_test, height_squared_test, sarcopenia_test)[0]\n",
    "\n",
    "eval_classifier(result_test_asm_SVR, sarcopenia, show_detail=True, log=use_log, setname='Test')\n",
    "ppvs, npvs, sensitivitys, specificitys = eval_classifier_k_fold(result_test_asm_SVR, sarcopenia)\n",
    "\n",
    "print(\"------------------------ Overall Statistics --------------------------\") \n",
    "print(\"ppv: %.3f, \\nnpv: %.3f, \\nsensitivity: %.3f, \\nspecificity: %.3f\\n\" % \n",
    "      (np.mean(ppvs), np.mean(npvs), np.mean(sensitivitys), np.mean(specificitys), ))\n",
    "\n"
   ]
  },
  {
   "cell_type": "markdown",
   "metadata": {},
   "source": [
    "## Measurement Index\n",
    "$$Precision = \\frac{True\\ Positive}{True\\ Positve + False\\ Positive}$$\n",
    "$$Recall = \\frac{True\\ Positive}{True\\ Positive + False\\ Negative}$$\n",
    "$$F1\\_Score = \\frac{2 \\times Precision \\times Recall}{Precision + Recall}$$\n",
    "\n",
    "$$PPV = \\frac{True\\ Positive}{True\\ Positve + False\\ Positive}$$\n",
    "$$NPV = \\frac{True\\ Negative}{True\\ Negative + False\\ Negative}$$\n",
    "$$Sensitivity = \\frac{True\\ Positive}{True\\ Positive + False\\ Negative}$$\n",
    "$$Specificity = \\frac{True\\ Negative}{True\\ Negative + False\\ Positive}$$\n",
    "\n",
    "\n",
    "|       |          | Actual   | Class  |\n",
    "| :---  | ---      | ---      |    --- |\n",
    "|       |          | Positive |Negative|\n",
    "|Predict|Positive  | TP       | FP     |\n",
    "| Class |Negative  | FN       | TN     |\n"
   ]
  },
  {
   "cell_type": "code",
   "execution_count": null,
   "metadata": {},
   "outputs": [],
   "source": []
  }
 ],
 "metadata": {
  "kernelspec": {
   "display_name": "Python 3",
   "language": "python",
   "name": "python3"
  },
  "language_info": {
   "codemirror_mode": {
    "name": "ipython",
    "version": 3
   },
   "file_extension": ".py",
   "mimetype": "text/x-python",
   "name": "python",
   "nbconvert_exporter": "python",
   "pygments_lexer": "ipython3",
   "version": "3.6.4"
  }
 },
 "nbformat": 4,
 "nbformat_minor": 2
}
