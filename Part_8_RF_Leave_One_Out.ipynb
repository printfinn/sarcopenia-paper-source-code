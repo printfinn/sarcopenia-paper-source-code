{
 "cells": [
  {
   "cell_type": "markdown",
   "metadata": {},
   "source": [
    "# Part 8: Leave One Out with Random Forest"
   ]
  },
  {
   "cell_type": "code",
   "execution_count": 1,
   "metadata": {},
   "outputs": [
    {
     "data": {
      "application/javascript": [
       "IPython.OutputArea.prototype._should_scroll = function(lines) {\n",
       "    return false;\n",
       "}"
      ],
      "text/plain": [
       "<IPython.core.display.Javascript object>"
      ]
     },
     "metadata": {},
     "output_type": "display_data"
    }
   ],
   "source": [
    "%%javascript\n",
    "IPython.OutputArea.prototype._should_scroll = function(lines) {\n",
    "    return false;\n",
    "}"
   ]
  },
  {
   "cell_type": "code",
   "execution_count": 2,
   "metadata": {
    "scrolled": true
   },
   "outputs": [],
   "source": [
    "# Run some setup code for this notebook.\n",
    "import glob\n",
    "import matplotlib.pyplot as plt\n",
    "import numpy as np\n",
    "import os\n",
    "import ipywidgets as widgets\n",
    "\n",
    "from ipywidgets import VBox, HBox, Layout\n",
    "\n",
    "\n",
    "from sklearn import preprocessing\n",
    "from sklearn.utils import shuffle\n",
    "\n",
    "from sklearn.ensemble import RandomForestClassifier\n",
    "from sklearn.ensemble import RandomForestRegressor\n",
    "\n",
    "from utils.checkbox import *\n",
    "from utils.data_utils import *\n",
    "#from utils.data_processing import *\n",
    "from utils.svm_modeling import *\n",
    "from utils.model_eval import *\n",
    "from __future__ import print_function\n",
    "\n",
    "# This is a bit of magic to make matplotlib figures appear inline in the\n",
    "# notebook rather than in a new window.\n",
    "%matplotlib inline\n",
    "plt.rcParams['figure.figsize'] = (15.0, 8.0) # set default size of plots\n",
    "plt.rcParams['image.interpolation'] = 'nearest'\n",
    "plt.rcParams['image.cmap'] = 'gray'\n",
    "\n",
    "%load_ext autoreload\n",
    "%autoreload 2"
   ]
  },
  {
   "cell_type": "code",
   "execution_count": 3,
   "metadata": {},
   "outputs": [
    {
     "name": "stdout",
     "output_type": "stream",
     "text": [
      "Feature dict loaded.\n",
      "\n"
     ]
    }
   ],
   "source": [
    "# Load data.\n",
    "path = 'dataset_new'\n",
    "feature_dict = load_features(path, dont_show=True)\n",
    "#show_feature_details(feature_dict)"
   ]
  },
  {
   "cell_type": "code",
   "execution_count": 14,
   "metadata": {
    "scrolled": false
   },
   "outputs": [
    {
     "data": {
      "application/vnd.jupyter.widget-view+json": {
       "model_id": "8270303a0fb649b98572bc6a5cb90927",
       "version_major": 2,
       "version_minor": 0
      },
      "text/html": [
       "<p>Failed to display Jupyter Widget of type <code>HBox</code>.</p>\n",
       "<p>\n",
       "  If you're reading this message in the Jupyter Notebook or JupyterLab Notebook, it may mean\n",
       "  that the widgets JavaScript is still loading. If this message persists, it\n",
       "  likely means that the widgets JavaScript library is either not installed or\n",
       "  not enabled. See the <a href=\"https://ipywidgets.readthedocs.io/en/stable/user_install.html\">Jupyter\n",
       "  Widgets Documentation</a> for setup instructions.\n",
       "</p>\n",
       "<p>\n",
       "  If you're reading this message in another frontend (for example, a static\n",
       "  rendering on GitHub or <a href=\"https://nbviewer.jupyter.org/\">NBViewer</a>),\n",
       "  it may mean that your frontend doesn't currently support widgets.\n",
       "</p>\n"
      ],
      "text/plain": [
       "HBox(children=(VBox(children=(Checkbox(value=False, description='1_24h_urinary_microalbumin'), Checkbox(value=False, description='2_24h_urine_protein'), Checkbox(value=False, description='3_25oh_vd'), Checkbox(value=False, description='4_25oh_vd3'), Checkbox(value=False, description='5_2h_fasting_glucose'), Checkbox(value=False, description='6_8_blood_cortisol'), Checkbox(value=True, description='7_age'), Checkbox(value=False, description='8_alt'), Checkbox(value=False, description='9_ast'), Checkbox(value=False, description='10_blood_protein'), Checkbox(value=False, description='11_blood_urea_nitrogen'), Checkbox(value=False, description='12_blood_uric_acid'), Checkbox(value=False, description='13_c_peptide'), Checkbox(value=False, description='14_c_reactive_protein'), Checkbox(value=True, description='15_calf'))), VBox(children=(Checkbox(value=False, description='16_creatine_kinase'), Checkbox(value=False, description='17_creatinine'), Checkbox(value=False, description='18_cystatin_c'), Checkbox(value=False, description='19_fasting_glucose'), Checkbox(value=False, description='20_fasting_insulin'), Checkbox(value=False, description='21_ft3'), Checkbox(value=True, description='22_ft4'), Checkbox(value=True, description='23_gender'), Checkbox(value=False, description='24_glycated_hemoglobin'), Checkbox(value=True, description='25_grip_strength'), Checkbox(value=False, description='26_hbg'), Checkbox(value=False, description='27_hdlc'), Checkbox(value=False, description='28_height'), Checkbox(value=True, description='29_movement_hours'), Checkbox(value=False, description='30_plt'))), VBox(children=(Checkbox(value=False, description='31_pth'), Checkbox(value=False, description='32_rbc'), Checkbox(value=False, description='33_sleep_time'), Checkbox(value=False, description='34_total_cholesterol'), Checkbox(value=True, description='35_triglyceride'), Checkbox(value=False, description='36_tsh'), Checkbox(value=False, description='37_wbc'), Checkbox(value=False, description='38_weight'), Checkbox(value=False, description='39_h2'), Checkbox(value=False, description='40_6m_speed'), Checkbox(value=True, description='41_bmi'), Checkbox(value=False, description='42_history_of_fall'), Checkbox(value=False, description='43_history_of_cerebrovascular_disease'), Checkbox(value=False, description='44_course_of_diabetes'), Checkbox(value=False, description='45_exogenous_insulin'))), VBox(children=(Checkbox(value=False, description='46_oral_antidiabetic_drug'), Checkbox(value=False, description='47_hypertension_duration'), Checkbox(value=False, description='48_history_of_coronary_heart_disease'), Checkbox(value=False, description='49_ldlc'), Checkbox(value=False, description='50_smoking_history'), Checkbox(value=False, description='51_has_hypertension'), Checkbox(value=False, description='52_do_exercise'), Checkbox(value=False, description='53_sulfonylureas'), Checkbox(value=False, description='54_non_sulfonylureas'), Checkbox(value=True, description='55_biguanides'), Checkbox(value=False, description='56_glycosidase_inhibitor'), Checkbox(value=False, description='57_chinese_medicine'), Checkbox(value=False, description='58_thiazolidinediones'), Checkbox(value=False, description='59_glp1ddp4'), Checkbox(value=False, description='60_job_worker'))), VBox(children=(Checkbox(value=False, description='61_noon_nap'), Checkbox(value=False, description='62_snore'), Checkbox(value=False, description='63_chewing_ability'), Checkbox(value=False, description='64_fundal_photograph'), Checkbox(value=False, description='65_dpn'), Checkbox(value=False, description='66_lower_limb_doppler'), Checkbox(value=False, description='997_blood_Ca')))))"
      ]
     },
     "metadata": {},
     "output_type": "display_data"
    }
   ],
   "source": [
    "# Select some features.\n",
    "use_all = False\n",
    "#use_all = True\n",
    "\n",
    "level_1 = [7, 41, 25, 60, 16, 17, 23, 28, 30, 31, 38, 40, 42, 43, 44, 46, 47, 48, 52, 56, 61, 62, 63, 64, 65, 66]\n",
    "level_2 = [7, 41, 25]\n",
    "cui_statistic = [7, 11, 15, 22, 23, 25, 29, 35, 41, 44, 55, 62]\n",
    "cui_1 = [7, 22, 23, 29, 41, 55]\n",
    "cui_2 = [7, 12, 15, 22, 23, 25, 35, 41, 44, 55, 62]\n",
    "cui_3 = [7, 22, 23, 41, 52, 55]\n",
    "gao_1 = [7, 22, 23, 25, 29, 41, 55]\n",
    "gao_asm_1 = [7, 15, 16, 23, 25, 28, 38, 39, 40, 41, 42, 49]  #108\n",
    "gao_asm_2 = [7, 13, 15, 16, 18, 23, 25, 27, 28, 29, 38, 39, 40, 41, 42, 49] #108\n",
    "\n",
    "group_1 = [7, 23, 41]\n",
    "group_2 = [7, 23, 41, 29, 55, 22]\n",
    "group_3 = [7, 23, 41, 29, 55, 22, 25, 15, 35]\n",
    "\n",
    "include_feature_groups = []\n",
    "include_feature_index = group_3\n",
    "exclude_feature_index = []\n",
    "\n",
    "if use_all:\n",
    "    include_feature_index = np.arange(1, len(feature_dict), 1)\n",
    "\n",
    "feature_pre_selected = pre_select_feature(include_feature_groups, include_feature_index, exclude_feature_index, dont_show=True)\n",
    "precheck_boxes = generate_precheck_boxes(feature_pre_selected, feature_dict, dont_show=True)\n",
    "\n",
    "hbox = gen_checkbox(precheck_boxes, feature_dict)\n",
    "HBox(hbox)"
   ]
  },
  {
   "cell_type": "code",
   "execution_count": 15,
   "metadata": {},
   "outputs": [
    {
     "name": "stdout",
     "output_type": "stream",
     "text": [
      "Checked features:\n",
      "  [7, 15, 22, 23, 25, 29, 35, 41, 55]\n",
      "Loading (9) features, done.\n"
     ]
    }
   ],
   "source": [
    "# Turn on / off log.\n",
    "#use_log = False\n",
    "use_log = True\n",
    "\n",
    "# Load data.\n",
    "checked_features = review_checkbox(hbox, dont_show=False, log=use_log)\n",
    "\n",
    "X = load_using_features(feature_dict, checked_features, dont_show=True)\n",
    "\n",
    "mask_array = np.arange(0, X.shape[0])\n"
   ]
  },
  {
   "cell_type": "markdown",
   "metadata": {},
   "source": [
    "## Leave one out test for Random Forest"
   ]
  },
  {
   "cell_type": "markdown",
   "metadata": {},
   "source": [
    "## Method I: Random Forest Classifier on Sarcopenia"
   ]
  },
  {
   "cell_type": "code",
   "execution_count": 16,
   "metadata": {},
   "outputs": [
    {
     "name": "stdout",
     "output_type": "stream",
     "text": [
      "Loading (9) features, done.\n",
      "\n",
      "Evaluating Validation set:\n",
      "Positive: 37, Negative: 95\n",
      "TP: 18, FP: 8, TN: 87, FN: 19\n",
      "Correct: 105(132), Precision: 0.692, Recall: 0.486, Specificity: 0.916, F1-Score: 0.571\n",
      "\n",
      "------------------------ Overall Statistics --------------------------\n",
      "ppv: 0.692, \n",
      "npv: 0.821, \n",
      "sensitivity: 0.486, \n",
      "specificity: 0.916\n",
      "\n"
     ]
    }
   ],
   "source": [
    "result_val_RFC = np.zeros([X.shape[0]])\n",
    "X = load_using_features(feature_dict, checked_features, dont_show=True)\n",
    "asm, asm_h2, sarcopenia, gender, height_squared, patient_id = load_asm(), load_asm_over_h2(), load_sarcopenia(), load_gender(), load_height_squared(), load_index()\n",
    "\n",
    "for i in np.arange(0, X.shape[0]):\n",
    "    mask = np.hstack((mask_array[:i], mask_array[i+1:]))\n",
    "\n",
    "    asm_train, asm_val = asm[mask], asm[i]\n",
    "    asm_h2_train, asm_h2_val = asm_h2[mask], asm_h2[i]\n",
    "    sarcopenia_train, sarcopenia_val = sarcopenia[mask], sarcopenia[i]\n",
    "    gender_train, gender_val = gender[mask], gender[i]\n",
    "    height_squared_train, height_squared_val = height_squared[mask], height_squared[i]\n",
    "    patient_id_train, patient_id_val = patient_id[mask], patient_id[i]\n",
    "    X_train, X_val = X[mask], X[i].reshape(1, -1)\n",
    "    \n",
    "    clf_RFC = None\n",
    "    clf_RFC = RandomForestClassifier(n_estimators=100, max_depth=5, random_state=0)\n",
    "    clf_RFC.fit(X_train, sarcopenia_train)\n",
    "    \n",
    "    result_val_RFC[i] = (clf_RFC.predict(X_val))\n",
    "\n",
    "#observe_prediction_SVC(clf_RFC, X_train, sarcopenia_train, patient_id_train, dont_show=False, log=use_log, setname='Training')\n",
    "#result_train_RFC = clf_RFC.predict(X_train)\n",
    "#eval_classifier(result_train_RFC, sarcopenia_train, show_detail=True, log=use_log, setname='Training')\n",
    "eval_classifier(result_val_RFC, sarcopenia, show_detail=True, log=use_log, setname='Validation')\n",
    "\n",
    "ppvs, npvs, sensitivitys, specificitys = eval_classifier_k_fold(result_val_RFC, sarcopenia)\n",
    "\n",
    "    \n",
    "print(\"------------------------ Overall Statistics --------------------------\") \n",
    "print(\"ppv: %.3f, \\nnpv: %.3f, \\nsensitivity: %.3f, \\nspecificity: %.3f\\n\" % \n",
    "      (np.mean(ppvs), np.mean(npvs), np.mean(sensitivitys), np.mean(specificitys), ))\n",
    "\n",
    "#_ = load_using_features(feature_dict, checked_features, dont_show=False)\n",
    "#print(\"\\nFeature importance: \\n\", clf_RFC.feature_importances_)"
   ]
  },
  {
   "cell_type": "markdown",
   "metadata": {},
   "source": [
    "## Method II: Random Forest Regressor on ASM/h2"
   ]
  },
  {
   "cell_type": "code",
   "execution_count": 17,
   "metadata": {
    "scrolled": false
   },
   "outputs": [
    {
     "name": "stdout",
     "output_type": "stream",
     "text": [
      "Loading (9) features, done.\n",
      "\n",
      "Evaluating Validation set:\n",
      "Positive: 37, Negative: 95\n",
      "TP: 16, FP: 8, TN: 87, FN: 21\n",
      "Correct: 103(132), Precision: 0.667, Recall: 0.432, Specificity: 0.916, F1-Score: 0.525\n",
      "\n",
      "------------------------ Overall Statistics --------------------------\n",
      "ppv: 0.667, \n",
      "npv: 0.806, \n",
      "sensitivity: 0.432, \n",
      "specificity: 0.916\n",
      "\n"
     ]
    }
   ],
   "source": [
    "result_val_asm_h2_RFR = np.zeros([X.shape[0]])\n",
    "X = load_using_features(feature_dict, checked_features, dont_show=True)\n",
    "asm, asm_h2, sarcopenia, gender, height_squared, patient_id = load_asm(), load_asm_over_h2(), load_sarcopenia(), load_gender(), load_height_squared(), load_index()\n",
    "\n",
    "\n",
    "for i in np.arange(0, X.shape[0]):\n",
    "    mask = np.hstack((mask_array[:i], mask_array[i+1:]))\n",
    "\n",
    "    asm_train, asm_val = asm[mask], asm[i]\n",
    "    asm_h2_train, asm_h2_val = asm_h2[mask], asm_h2[i]\n",
    "    sarcopenia_train, sarcopenia_val = sarcopenia[mask], sarcopenia[i]\n",
    "    gender_train, gender_val = gender[mask], gender[i]\n",
    "    height_squared_train, height_squared_val = height_squared[mask], height_squared[i]\n",
    "    patient_id_train, patient_id_val = patient_id[mask], patient_id[i]\n",
    "    X_train, X_val = X[mask], X[i].reshape(1, -1)\n",
    "    \n",
    "    clf_RFR_asmh2 = None\n",
    "    clf_RFR_asmh2 = RandomForestRegressor(n_estimators=100, max_features='auto', max_depth=5, min_samples_split=2, random_state=0)\n",
    "    clf_RFR_asmh2.fit(X_train, asm_h2_train)\n",
    "    \n",
    "    result_val_asm_h2_RFR[i] = (clf_RFR_asmh2.predict(X_val))\n",
    "\n",
    "#observe_prediction_asm_h2_SVR(clf_RFR_asmh2, X_train, asm_h2_train, gender_train, sarcopenia_train, patient_id_train, dont_show=False, log=use_log, setname='Training')\n",
    "#result_train = eval_sarcopenia_asm_h2(clf_RFR_asmh2, X_train, gender_train, sarcopenia_train)\n",
    "#eval_classifier(result_train, sarcopenia_train, show_detail=True, log=use_log, setname='Training')\n",
    "\n",
    "result_val = eval_sarcopenia_asm_h2_leave_one_out(result_val_asm_h2_RFR, gender, sarcopenia)\n",
    "eval_classifier(result_val, sarcopenia, show_detail=True, log=use_log, setname='Validation')\n",
    "\n",
    "ppvs, npvs, sensitivitys, specificitys = eval_classifier_k_fold(result_val, sarcopenia)\n",
    "\n",
    "    \n",
    "print(\"------------------------ Overall Statistics --------------------------\") \n",
    "print(\"ppv: %.3f, \\nnpv: %.3f, \\nsensitivity: %.3f, \\nspecificity: %.3f\\n\" % \n",
    "      (np.mean(ppvs), np.mean(npvs), np.mean(sensitivitys), np.mean(specificitys), ))\n",
    "\n",
    "#_ = load_using_features(feature_dict, checked_features, dont_show=False)\n",
    "#print(\"\\nFeature importance: \\n\", clf_RFR_asmh2.feature_importances_)"
   ]
  },
  {
   "cell_type": "markdown",
   "metadata": {},
   "source": [
    "## Method III: Random Forest Regressor on ASM"
   ]
  },
  {
   "cell_type": "code",
   "execution_count": 9,
   "metadata": {
    "scrolled": true
   },
   "outputs": [
    {
     "name": "stdout",
     "output_type": "stream",
     "text": [
      "Loading (3) features, done.\n",
      "\n",
      "Evaluating Validation set:\n",
      "Positive: 37, Negative: 95\n",
      "TP: 16, FP: 13, TN: 82, FN: 21\n",
      "Correct: 98(132), Precision: 0.552, Recall: 0.432, Specificity: 0.863, F1-Score: 0.485\n",
      "\n",
      "------------------------ Overall Statistics --------------------------\n",
      "ppv: 0.552, \n",
      "npv: 0.796, \n",
      "sensitivity: 0.432, \n",
      "specificity: 0.863\n",
      "\n"
     ]
    }
   ],
   "source": [
    "result_val_asm_RFR = np.zeros([X.shape[0]])\n",
    "X = load_using_features(feature_dict, checked_features, dont_show=True)\n",
    "asm, asm_h2, sarcopenia, gender, height_squared, patient_id = load_asm(), load_asm_over_h2(), load_sarcopenia(), load_gender(), load_height_squared(), load_index()\n",
    "\n",
    "for i in np.arange(0, X.shape[0]):\n",
    "    mask = np.hstack((mask_array[:i], mask_array[i+1:]))\n",
    "\n",
    "    asm_train, asm_val = asm[mask], asm[i]\n",
    "    asm_h2_train, asm_h2_val = asm_h2[mask], asm_h2[i]\n",
    "    sarcopenia_train, sarcopenia_val = sarcopenia[mask], sarcopenia[i]\n",
    "    gender_train, gender_val = gender[mask], gender[i]\n",
    "    height_squared_train, height_squared_val = height_squared[mask], height_squared[i]\n",
    "    patient_id_train, patient_id_val = patient_id[mask], patient_id[i]\n",
    "    X_train, X_val = X[mask], X[i].reshape(1, -1)\n",
    "    \n",
    "    \n",
    "    clf_RFR_asm = None\n",
    "    clf_RFR_asm = RandomForestRegressor(n_estimators=100, max_depth=5, random_state=None)\n",
    "    clf_RFR_asm.fit(X_train, asm_train)\n",
    "    \n",
    "    result_val_asm_RFR[i] = (clf_RFR_asm.predict(X_val))\n",
    "\n",
    "#observe_prediction_asm_SVR(clf_RFR_asm, X_train, asm_train, gender_train, height_squared_train, sarcopenia_train, patient_id_train, dont_show=False, log=use_log, setname='Training')\n",
    "#result_train = eval_sarcopenia_asm(clf_RFR_asm, X_train, gender_train, height_squared_train, sarcopenia_train)\n",
    "#eval_classifier(result_train, sarcopenia_train, show_detail=False, log=use_log, setname='Training')\n",
    "\n",
    "result_val = eval_sarcopenia_asm_leave_one_out(result_val_asm_RFR, gender, height_squared, sarcopenia)\n",
    "eval_classifier(result_val, sarcopenia, show_detail=True, log=use_log, setname='Validation')\n",
    "\n",
    "ppvs, npvs, sensitivitys, specificitys = eval_classifier_k_fold(result_val, sarcopenia)\n",
    "\n",
    "    \n",
    "print(\"------------------------ Overall Statistics --------------------------\") \n",
    "print(\"ppv: %.3f, \\nnpv: %.3f, \\nsensitivity: %.3f, \\nspecificity: %.3f\\n\" % \n",
    "      (np.mean(ppvs), np.mean(npvs), np.mean(sensitivitys), np.mean(specificitys), ))\n",
    "\n",
    "#_ = load_using_features(feature_dict, checked_features, dont_show=False)\n",
    "#print(\"\\nFeature importance: \\n\", clf_RFR_asmh2.feature_importances_)\n"
   ]
  },
  {
   "cell_type": "markdown",
   "metadata": {},
   "source": [
    "## Measurement Index\n",
    "$$Precision = \\frac{True\\ Positive}{True\\ Positve + False\\ Positive}$$\n",
    "$$Recall = \\frac{True\\ Positive}{True\\ Positive + False\\ Negative}$$\n",
    "$$F1\\_Score = \\frac{2 \\times Precision \\times Recall}{Precision + Recall}$$\n",
    "\n",
    "$$PPV = \\frac{True\\ Positive}{True\\ Positve + False\\ Positive}$$\n",
    "$$NPV = \\frac{True\\ Negative}{True\\ Negative + False\\ Negative}$$\n",
    "$$Sensitivity = \\frac{True\\ Positive}{True\\ Positive + False\\ Negative}$$\n",
    "$$Specificity = \\frac{True\\ Negative}{True\\ Negative + False\\ Positive}$$\n",
    "\n",
    "\n",
    "|       |          | Actual   | Class  |\n",
    "| :---  | ---      | ---      |    --- |\n",
    "|       |          | Positive |Negative|\n",
    "|Predict|Positive  | TP       | FP     |\n",
    "| Class |Negative  | FN       | TN     |\n"
   ]
  },
  {
   "cell_type": "code",
   "execution_count": null,
   "metadata": {},
   "outputs": [],
   "source": []
  }
 ],
 "metadata": {
  "kernelspec": {
   "display_name": "Python 3",
   "language": "python",
   "name": "python3"
  },
  "language_info": {
   "codemirror_mode": {
    "name": "ipython",
    "version": 3
   },
   "file_extension": ".py",
   "mimetype": "text/x-python",
   "name": "python",
   "nbconvert_exporter": "python",
   "pygments_lexer": "ipython3",
   "version": "3.6.4"
  }
 },
 "nbformat": 4,
 "nbformat_minor": 2
}
